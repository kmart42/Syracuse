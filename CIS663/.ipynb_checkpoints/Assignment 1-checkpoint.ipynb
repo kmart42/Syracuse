{
 "cells": [
  {
   "cell_type": "markdown",
   "metadata": {},
   "source": [
    "# Assignment 1"
   ]
  },
  {
   "cell_type": "markdown",
   "metadata": {},
   "source": [
    "Kevin Martin <br>\n",
    "Syracuse University <br>\n",
    "CIS663 Wednesday @ 9:00pm EST"
   ]
  },
  {
   "cell_type": "markdown",
   "metadata": {},
   "source": [
    "## Question 1\n",
    "For Question 1, I will import the data into a pandas' dataframe and then modify it with various Python libraries. See below the dataframe implementation, which shows 405 records (rows) and 2 columns."
   ]
  },
  {
   "cell_type": "code",
   "execution_count": 6,
   "metadata": {},
   "outputs": [
    {
     "data": {
      "text/plain": [
       "<bound method NDFrame.head of                 0         1\n",
       "0    test.subject  test.out\n",
       "1            s048      s025\n",
       "2            s048      s025\n",
       "3            s048      s038\n",
       "4            s048      s048\n",
       "..            ...       ...\n",
       "400          s031      s051\n",
       "401          s010      s010\n",
       "402          s034      s031\n",
       "403          s039      s039\n",
       "404          s057      s008\n",
       "\n",
       "[405 rows x 2 columns]>"
      ]
     },
     "execution_count": 6,
     "metadata": {},
     "output_type": "execute_result"
    }
   ],
   "source": [
    "# data setup\n",
    "import pandas as pd\n",
    "data = pd.read_csv('./s048r_2_2_2.txt', sep='\\t', header=None)\n",
    "data.head"
   ]
  },
  {
   "cell_type": "markdown",
   "metadata": {},
   "source": [
    "## 1a.\n",
    "For the confusion matrix, I will encode a result of \"s048\" as 1 (positive) and anything else as 0 (negative)."
   ]
  },
  {
   "cell_type": "code",
   "execution_count": 7,
   "metadata": {},
   "outputs": [
    {
     "data": {
      "image/png": "[encoded data removed]",
      "text/plain": [
       "<Figure size 432x288 with 2 Axes>"
      ]
     },
     "metadata": {
      "needs_background": "light"
     },
     "output_type": "display_data"
    }
   ],
   "source": [
    "import matplotlib.pyplot as plt\n",
    "import seaborn as sns\n",
    "import numpy as np\n",
    "data[0] = np.where(data[0] == 's048', 1, 0)\n",
    "data[1] = np.where(data[1] == 's048', 1, 0)\n",
    "actual = pd.Series(data[0], name='Actual')\n",
    "predicted = pd.Series(data[1], name='Predicted')\n",
    "conf_matrix = pd.crosstab(actual, predicted)\n",
    "sns.heatmap(conf_matrix, annot=True, ax = plt.subplot(), fmt='g')"
   ]
  },
  {
   "cell_type": "markdown",
   "metadata": {},
   "source": [
    "## 1b.\n",
    "\n",
    "The accuracy for this model is 86.7%, as show below. To calculate, I used the accuracy_score function which comes with the scikit-learn pacakge metrics. It is a very quick and easy way to find the accuracy, but it also has the added benefit of using the exact same variables I used for creating the confusion matrix. This creates a less error prone result.\n",
    "\n",
    "I believe accuracy is a useful measure for this model. First, with (generally) any model, accuracy should be taken into consideration. It's a quick and easy benchmark to look at it, but it can help add color to the problem. However, I would immediately caveat this statement by saying accuracy should not be the **only** metric used to evaluate performance. Accuracy can be skewed for a variety of reasons, and in some cases may not even be the most important metric. Things like precsion and recall should also, at the very least, be considered.\n",
    "\n",
    "Another potential issue is unbalanced data. Say for example the dataset has 90% of all test cases being in the positive. A model assigning a positive value to every case would score 90% accuracy. This is obviously not a good result, nor telling of the model's performance. In the case of dataset s048r_2_2_2.txt, we can see below that the data is relatively balanced. About 150 positive, and about 240 negative. While not a perfect 50/50 split, it is a good enough split to allow the model to learn and develop correct patterns."
   ]
  },
  {
   "cell_type": "code",
   "execution_count": 8,
   "metadata": {},
   "outputs": [
    {
     "name": "stdout",
     "output_type": "stream",
     "text": [
      "The accuracy is:  86.7%\n"
     ]
    }
   ],
   "source": [
    "# accuracy\n",
    "from sklearn.metrics import accuracy_score\n",
    "print(\"The accuracy is: \",\"{0:.1%}\".format(accuracy_score(actual, predicted)))"
   ]
  },
  {
   "cell_type": "code",
   "execution_count": 9,
   "metadata": {},
   "outputs": [
    {
     "data": {
      "image/png": "[encoded data removed]",
      "text/plain": [
       "<Figure size 432x288 with 1 Axes>"
      ]
     },
     "metadata": {
      "needs_background": "light"
     },
     "output_type": "display_data"
    }
   ],
   "source": [
    "# balance check\n",
    "plt.hist(predicted, bins=2)\n",
    "plt.xticks(range(0, 2))\n",
    "plt.show()"
   ]
  },
  {
   "cell_type": "markdown",
   "metadata": {},
   "source": [
    "## 1c.\n",
    "In order to calculate FMR and FNMR, I used the same correlation matrix as before. This made it easy to select just the cells I needed for false positives, true positives, true negatives, and false negatives. Then I could drop those into their respective formulas to compute.\n",
    "\n",
    "For recall and precision, I once again leaned on scikit-lear for more of the metrics functinos. Both are already pre-built into the API, and I used the same variables as before to make it consistent. Please see cell below for results."
   ]
  },
  {
   "cell_type": "code",
   "execution_count": 10,
   "metadata": {},
   "outputs": [
    {
     "name": "stdout",
     "output_type": "stream",
     "text": [
      "The FMR is:  19.8%\n",
      "The FNMR is:  3.7%\n",
      "The recall is:  76.5%\n",
      "The precision is:  96.3%\n"
     ]
    }
   ],
   "source": [
    "# FMR, FNMR, Precision, Recall\n",
    "from sklearn.metrics import recall_score\n",
    "from sklearn.metrics import precision_score\n",
    "FP = conf_matrix[0][1]\n",
    "TP = conf_matrix[1][1]\n",
    "TN = conf_matrix[0][0]\n",
    "FN = conf_matrix[1][0]\n",
    "\n",
    "FMR = FP/(FP+TN)\n",
    "FNMR = FN/(TP+FN)\n",
    "\n",
    "print(\"The FMR is: \", \"{0:.1%}\".format(FMR))\n",
    "print(\"The FNMR is: \", \"{0:.1%}\".format(FNMR))\n",
    "print(\"The recall is: \",\"{0:.1%}\".format(recall_score(actual, predicted)))\n",
    "print(\"The precision is: \",\"{0:.1%}\".format(precision_score(actual, predicted)))"
   ]
  },
  {
   "cell_type": "markdown",
   "metadata": {},
   "source": [
    "# Question 2"
   ]
  },
  {
   "cell_type": "markdown",
   "metadata": {},
   "source": [
    "## 2a."
   ]
  },
  {
   "cell_type": "markdown",
   "metadata": {},
   "source": [
    "## 2b."
   ]
  },
  {
   "cell_type": "markdown",
   "metadata": {},
   "source": [
    "## 2c."
   ]
  },
  {
   "cell_type": "markdown",
   "metadata": {},
   "source": [
    "# Question 3"
   ]
  },
  {
   "cell_type": "code",
   "execution_count": 11,
   "metadata": {},
   "outputs": [
    {
     "name": "stdout",
     "output_type": "stream",
     "text": [
      "10\n",
      "6.858407346410207\n",
      "170\n",
      "166.85840734641022\n",
      "-210\n",
      "-206.85840734641022\n",
      "60\n",
      "56.8584073464102\n",
      "160\n",
      "156.85840734641022\n",
      "-140\n",
      "-136.85840734641022\n",
      "-50\n",
      "-46.8584073464102\n",
      "-90\n",
      "-86.8584073464102\n",
      "Delta K is:  -89.99999999999997\n"
     ]
    }
   ],
   "source": [
    "import math\n",
    "def theta(k):\n",
    "    if k == 0:\n",
    "        return 80\n",
    "    elif k == 1:\n",
    "        return 90\n",
    "    elif k == 2:\n",
    "        return 260\n",
    "    elif k == 3:\n",
    "        return 50\n",
    "    elif k == 4:\n",
    "        return 110\n",
    "    elif k == 5:\n",
    "        return 270\n",
    "    elif k == 6:\n",
    "        return 130\n",
    "    elif k == 7:\n",
    "        return 180\n",
    "\n",
    "def delta1(k,N):\n",
    "    tmp = theta((k+1)%N)\n",
    "    tmp2 = theta(k)\n",
    "    return tmp - tmp2\n",
    "\n",
    "def delta2(k,N):\n",
    "    if abs(delta1(k,N)) < math.pi / 2:\n",
    "        return delta1(k,N)\n",
    "    elif delta1(k,N) <= -math.pi / 2:\n",
    "        return (delta1(k,N) + math.pi)\n",
    "    elif delta1(k,N) >= math.pi / 2:\n",
    "        return (delta1(k,N) - math.pi)\n",
    "\n",
    "N = 7\n",
    "delta_k = 0\n",
    "for i in range(8):\n",
    "    print(delta1(i,N))\n",
    "    delt_tmp = delta2(i,N)\n",
    "    delta_k = delta_k + delt_tmp\n",
    "    print(delt_tmp)\n",
    "    \n",
    "print(\"Delta K is: \",delta_k)"
   ]
  },
  {
   "cell_type": "code",
   "execution_count": 12,
   "metadata": {},
   "outputs": [
    {
     "name": "stdout",
     "output_type": "stream",
     "text": [
      "None\n"
     ]
    }
   ],
   "source": [
    "def singularity_type(delt_k):\n",
    "    if delt_k == 360:\n",
    "        return \"whorl\"\n",
    "    elif delt_k == 180:\n",
    "        return \"loop\"\n",
    "    elif delt_k == -180:\n",
    "        return \"delta\"\n",
    "    elif delt_k == 0:\n",
    "        return \"singularity\"\n",
    "\n",
    "print(singularity_type(delta_k))"
   ]
  }
 ],
 "metadata": {
  "kernelspec": {
   "display_name": "Python 3",
   "language": "python",
   "name": "python3"
  },
  "language_info": {
   "codemirror_mode": {
    "name": "ipython",
    "version": 3
   },
   "file_extension": ".py",
   "mimetype": "text/x-python",
   "name": "python",
   "nbconvert_exporter": "python",
   "pygments_lexer": "ipython3",
   "version": "3.8.3"
  }
 },
 "nbformat": 4,
 "nbformat_minor": 4
}
