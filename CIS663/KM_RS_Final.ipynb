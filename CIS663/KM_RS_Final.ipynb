{
 "cells": [
  {
   "cell_type": "markdown",
   "metadata": {},
   "source": [
    "# Kevin Martin & Ravjot Sachdev CIS663 - Wednesday @ 9:00pm EST"
   ]
  },
  {
   "cell_type": "markdown",
   "metadata": {},
   "source": [
    "Final Project\n",
    "\n",
    "Dataset used: https://www.kaggle.com/nautiyalamit/bar-crawl-detecting-heavy-drinking-data-set"
   ]
  },
  {
   "cell_type": "markdown",
   "metadata": {},
   "source": [
    "\n",
    "\n",
    "**Outline:**\n",
    "1. [Business Objectives](#Businessobjectives)\n",
    "2. [Data Understanding](#Dataunderstanding)\n",
    "3. [Data Preparation](#Datapreparation)\n",
    "4. [Model Training/Testing](#Modeltrain)\n",
    "5. [Analysis](#Analysis)\n",
    "6. [Conclusion](#Conclusion)"
   ]
  },
  {
   "cell_type": "markdown",
   "metadata": {},
   "source": [
    "# 1. Business Objectives <a class=\"anchor\" id=\"Businessunderstanding\"></a>\n"
   ]
  },
  {
   "cell_type": "markdown",
   "metadata": {},
   "source": [
    "## 1.1 Preliminary Assessment<a class=\"anchor\" id=\"Assessthecurrentsituation\"></a>"
   ]
  },
  {
   "cell_type": "markdown",
   "metadata": {},
   "source": [
    " ## 1.2 Desired Outputs <a class=\"anchor\" id=\"Desiredoutputs\"></a>"
   ]
  },
  {
   "cell_type": "markdown",
   "metadata": {},
   "source": [
    "\n",
    "**Business success criteria**\n",
    "\n",
    "\n",
    "\n",
    "**Data mining success criteria**\n"
   ]
  },
  {
   "cell_type": "markdown",
   "metadata": {},
   "source": [
    " ## 1.3 What Questions Are We Trying To Answer? <a class=\"anchor\" id=\"QA\"></a>"
   ]
  },
  {
   "cell_type": "markdown",
   "metadata": {},
   "source": [
    "# 2. Data Understanding <a class=\"anchor\" id=\"Dataunderstanding\"></a>"
   ]
  },
  {
   "cell_type": "markdown",
   "metadata": {},
   "source": [
    "## 2.1 Initial Data Report <a class=\"anchor\" id=\"Datareport\"></a> "
   ]
  },
  {
   "cell_type": "code",
   "execution_count": 1,
   "metadata": {},
   "outputs": [],
   "source": [
    "# Import Libraries Required\n",
    "import pandas as pd\n",
    "import matplotlib.pyplot as plt\n",
    "%matplotlib inline\n",
    "import numpy as np\n",
    "import seaborn as sns\n",
    "import warnings\n",
    "warnings.filterwarnings(\"ignore\")\n",
    "from numpy import nan\n",
    "from sklearn import decomposition, datasets\n",
    "from sklearn import tree\n",
    "from sklearn.pipeline import Pipeline\n",
    "from sklearn.metrics import roc_auc_score, classification_report\n",
    "from sklearn import metrics\n",
    "from sklearn.preprocessing import StandardScaler\n",
    "from sklearn.linear_model import LogisticRegression, LinearRegression\n",
    "from sklearn.tree import DecisionTreeClassifier\n",
    "from sklearn.metrics import confusion_matrix, accuracy_score, mean_absolute_error, roc_auc_score, mean_squared_error\n",
    "from sklearn.model_selection import train_test_split, GridSearchCV, cross_val_score, cross_validate, ShuffleSplit, LeaveOneOut, KFold\n",
    "from sklearn.ensemble import RandomForestClassifier, RandomForestRegressor\n",
    "from sklearn.tree import DecisionTreeClassifier, DecisionTreeRegressor\n",
    "from sklearn import tree\n",
    "from sklearn.metrics import accuracy_score\n",
    "from sklearn.naive_bayes import GaussianNB\n",
    "from xgboost import XGBClassifier\n",
    "\n",
    "#import keras\n",
    "#from keras import models\n",
    "#from keras.models import Sequential\n",
    "#from keras.layers import Dense\n",
    "#from keras.wrappers.scikit_learn import KerasClassifier, KerasRegressor"
   ]
  },
  {
   "cell_type": "code",
   "execution_count": 2,
   "metadata": {},
   "outputs": [
    {
     "data": {
      "text/html": [
       "<div>\n",
       "<style scoped>\n",
       "    .dataframe tbody tr th:only-of-type {\n",
       "        vertical-align: middle;\n",
       "    }\n",
       "\n",
       "    .dataframe tbody tr th {\n",
       "        vertical-align: top;\n",
       "    }\n",
       "\n",
       "    .dataframe thead th {\n",
       "        text-align: right;\n",
       "    }\n",
       "</style>\n",
       "<table border=\"1\" class=\"dataframe\">\n",
       "  <thead>\n",
       "    <tr style=\"text-align: right;\">\n",
       "      <th></th>\n",
       "      <th>timestamp</th>\n",
       "      <th>pid</th>\n",
       "      <th>x</th>\n",
       "      <th>y</th>\n",
       "      <th>z</th>\n",
       "      <th>timestamp2</th>\n",
       "      <th>MAX_500</th>\n",
       "      <th>MAY_500</th>\n",
       "      <th>MAZ_500</th>\n",
       "      <th>MAX_1000</th>\n",
       "      <th>MAY_1000</th>\n",
       "      <th>MAZ_1000</th>\n",
       "      <th>MAX_5000</th>\n",
       "      <th>MAY_5000</th>\n",
       "      <th>MAZ_5000</th>\n",
       "    </tr>\n",
       "  </thead>\n",
       "  <tbody>\n",
       "    <tr>\n",
       "      <th>0</th>\n",
       "      <td>1970-01-01 00:00:00.000</td>\n",
       "      <td>JB3156</td>\n",
       "      <td>0.0000</td>\n",
       "      <td>0.0000</td>\n",
       "      <td>0.0000</td>\n",
       "      <td>1970-01-01 00:00:00</td>\n",
       "      <td>NaN</td>\n",
       "      <td>NaN</td>\n",
       "      <td>NaN</td>\n",
       "      <td>NaN</td>\n",
       "      <td>NaN</td>\n",
       "      <td>NaN</td>\n",
       "      <td>NaN</td>\n",
       "      <td>NaN</td>\n",
       "      <td>NaN</td>\n",
       "    </tr>\n",
       "    <tr>\n",
       "      <th>1</th>\n",
       "      <td>1970-01-01 00:00:00.000</td>\n",
       "      <td>CC6740</td>\n",
       "      <td>0.0000</td>\n",
       "      <td>0.0000</td>\n",
       "      <td>0.0000</td>\n",
       "      <td>1970-01-01 00:00:00</td>\n",
       "      <td>NaN</td>\n",
       "      <td>NaN</td>\n",
       "      <td>NaN</td>\n",
       "      <td>NaN</td>\n",
       "      <td>NaN</td>\n",
       "      <td>NaN</td>\n",
       "      <td>NaN</td>\n",
       "      <td>NaN</td>\n",
       "      <td>NaN</td>\n",
       "    </tr>\n",
       "    <tr>\n",
       "      <th>2</th>\n",
       "      <td>2017-05-02 14:04:42.409</td>\n",
       "      <td>SA0297</td>\n",
       "      <td>0.0758</td>\n",
       "      <td>0.0273</td>\n",
       "      <td>-0.0102</td>\n",
       "      <td>2017-05-02 14:04:42</td>\n",
       "      <td>NaN</td>\n",
       "      <td>NaN</td>\n",
       "      <td>NaN</td>\n",
       "      <td>NaN</td>\n",
       "      <td>NaN</td>\n",
       "      <td>NaN</td>\n",
       "      <td>NaN</td>\n",
       "      <td>NaN</td>\n",
       "      <td>NaN</td>\n",
       "    </tr>\n",
       "    <tr>\n",
       "      <th>3</th>\n",
       "      <td>2017-05-02 14:04:42.455</td>\n",
       "      <td>SA0297</td>\n",
       "      <td>-0.0359</td>\n",
       "      <td>0.0794</td>\n",
       "      <td>0.0037</td>\n",
       "      <td>2017-05-02 14:04:42</td>\n",
       "      <td>NaN</td>\n",
       "      <td>NaN</td>\n",
       "      <td>NaN</td>\n",
       "      <td>NaN</td>\n",
       "      <td>NaN</td>\n",
       "      <td>NaN</td>\n",
       "      <td>NaN</td>\n",
       "      <td>NaN</td>\n",
       "      <td>NaN</td>\n",
       "    </tr>\n",
       "    <tr>\n",
       "      <th>4</th>\n",
       "      <td>2017-05-02 14:04:42.500</td>\n",
       "      <td>SA0297</td>\n",
       "      <td>-0.2427</td>\n",
       "      <td>-0.0861</td>\n",
       "      <td>-0.0163</td>\n",
       "      <td>2017-05-02 14:04:42</td>\n",
       "      <td>NaN</td>\n",
       "      <td>NaN</td>\n",
       "      <td>NaN</td>\n",
       "      <td>NaN</td>\n",
       "      <td>NaN</td>\n",
       "      <td>NaN</td>\n",
       "      <td>NaN</td>\n",
       "      <td>NaN</td>\n",
       "      <td>NaN</td>\n",
       "    </tr>\n",
       "    <tr>\n",
       "      <th>5</th>\n",
       "      <td>2017-05-02 14:04:43.945</td>\n",
       "      <td>SA0297</td>\n",
       "      <td>-0.2888</td>\n",
       "      <td>0.0514</td>\n",
       "      <td>-0.0145</td>\n",
       "      <td>2017-05-02 14:04:43</td>\n",
       "      <td>NaN</td>\n",
       "      <td>NaN</td>\n",
       "      <td>NaN</td>\n",
       "      <td>NaN</td>\n",
       "      <td>NaN</td>\n",
       "      <td>NaN</td>\n",
       "      <td>NaN</td>\n",
       "      <td>NaN</td>\n",
       "      <td>NaN</td>\n",
       "    </tr>\n",
       "    <tr>\n",
       "      <th>6</th>\n",
       "      <td>2017-05-02 14:04:43.953</td>\n",
       "      <td>SA0297</td>\n",
       "      <td>-0.0413</td>\n",
       "      <td>-0.0184</td>\n",
       "      <td>-0.0105</td>\n",
       "      <td>2017-05-02 14:04:43</td>\n",
       "      <td>NaN</td>\n",
       "      <td>NaN</td>\n",
       "      <td>NaN</td>\n",
       "      <td>NaN</td>\n",
       "      <td>NaN</td>\n",
       "      <td>NaN</td>\n",
       "      <td>NaN</td>\n",
       "      <td>NaN</td>\n",
       "      <td>NaN</td>\n",
       "    </tr>\n",
       "    <tr>\n",
       "      <th>7</th>\n",
       "      <td>2017-05-02 14:04:43.957</td>\n",
       "      <td>SA0297</td>\n",
       "      <td>-0.0413</td>\n",
       "      <td>-0.0001</td>\n",
       "      <td>0.0017</td>\n",
       "      <td>2017-05-02 14:04:43</td>\n",
       "      <td>NaN</td>\n",
       "      <td>NaN</td>\n",
       "      <td>NaN</td>\n",
       "      <td>NaN</td>\n",
       "      <td>NaN</td>\n",
       "      <td>NaN</td>\n",
       "      <td>NaN</td>\n",
       "      <td>NaN</td>\n",
       "      <td>NaN</td>\n",
       "    </tr>\n",
       "    <tr>\n",
       "      <th>8</th>\n",
       "      <td>2017-05-02 14:04:43.963</td>\n",
       "      <td>SA0297</td>\n",
       "      <td>-0.0286</td>\n",
       "      <td>-0.0028</td>\n",
       "      <td>-0.0094</td>\n",
       "      <td>2017-05-02 14:04:43</td>\n",
       "      <td>NaN</td>\n",
       "      <td>NaN</td>\n",
       "      <td>NaN</td>\n",
       "      <td>NaN</td>\n",
       "      <td>NaN</td>\n",
       "      <td>NaN</td>\n",
       "      <td>NaN</td>\n",
       "      <td>NaN</td>\n",
       "      <td>NaN</td>\n",
       "    </tr>\n",
       "    <tr>\n",
       "      <th>9</th>\n",
       "      <td>2017-05-02 14:04:43.974</td>\n",
       "      <td>SA0297</td>\n",
       "      <td>-0.0543</td>\n",
       "      <td>-0.0410</td>\n",
       "      <td>-0.0109</td>\n",
       "      <td>2017-05-02 14:04:43</td>\n",
       "      <td>NaN</td>\n",
       "      <td>NaN</td>\n",
       "      <td>NaN</td>\n",
       "      <td>NaN</td>\n",
       "      <td>NaN</td>\n",
       "      <td>NaN</td>\n",
       "      <td>NaN</td>\n",
       "      <td>NaN</td>\n",
       "      <td>NaN</td>\n",
       "    </tr>\n",
       "  </tbody>\n",
       "</table>\n",
       "</div>"
      ],
      "text/plain": [
       "                timestamp     pid       x       y       z          timestamp2  \\\n",
       "0 1970-01-01 00:00:00.000  JB3156  0.0000  0.0000  0.0000 1970-01-01 00:00:00   \n",
       "1 1970-01-01 00:00:00.000  CC6740  0.0000  0.0000  0.0000 1970-01-01 00:00:00   \n",
       "2 2017-05-02 14:04:42.409  SA0297  0.0758  0.0273 -0.0102 2017-05-02 14:04:42   \n",
       "3 2017-05-02 14:04:42.455  SA0297 -0.0359  0.0794  0.0037 2017-05-02 14:04:42   \n",
       "4 2017-05-02 14:04:42.500  SA0297 -0.2427 -0.0861 -0.0163 2017-05-02 14:04:42   \n",
       "5 2017-05-02 14:04:43.945  SA0297 -0.2888  0.0514 -0.0145 2017-05-02 14:04:43   \n",
       "6 2017-05-02 14:04:43.953  SA0297 -0.0413 -0.0184 -0.0105 2017-05-02 14:04:43   \n",
       "7 2017-05-02 14:04:43.957  SA0297 -0.0413 -0.0001  0.0017 2017-05-02 14:04:43   \n",
       "8 2017-05-02 14:04:43.963  SA0297 -0.0286 -0.0028 -0.0094 2017-05-02 14:04:43   \n",
       "9 2017-05-02 14:04:43.974  SA0297 -0.0543 -0.0410 -0.0109 2017-05-02 14:04:43   \n",
       "\n",
       "   MAX_500  MAY_500  MAZ_500  MAX_1000  MAY_1000  MAZ_1000  MAX_5000  \\\n",
       "0      NaN      NaN      NaN       NaN       NaN       NaN       NaN   \n",
       "1      NaN      NaN      NaN       NaN       NaN       NaN       NaN   \n",
       "2      NaN      NaN      NaN       NaN       NaN       NaN       NaN   \n",
       "3      NaN      NaN      NaN       NaN       NaN       NaN       NaN   \n",
       "4      NaN      NaN      NaN       NaN       NaN       NaN       NaN   \n",
       "5      NaN      NaN      NaN       NaN       NaN       NaN       NaN   \n",
       "6      NaN      NaN      NaN       NaN       NaN       NaN       NaN   \n",
       "7      NaN      NaN      NaN       NaN       NaN       NaN       NaN   \n",
       "8      NaN      NaN      NaN       NaN       NaN       NaN       NaN   \n",
       "9      NaN      NaN      NaN       NaN       NaN       NaN       NaN   \n",
       "\n",
       "   MAY_5000  MAZ_5000  \n",
       "0       NaN       NaN  \n",
       "1       NaN       NaN  \n",
       "2       NaN       NaN  \n",
       "3       NaN       NaN  \n",
       "4       NaN       NaN  \n",
       "5       NaN       NaN  \n",
       "6       NaN       NaN  \n",
       "7       NaN       NaN  \n",
       "8       NaN       NaN  \n",
       "9       NaN       NaN  "
      ]
     },
     "execution_count": 2,
     "metadata": {},
     "output_type": "execute_result"
    }
   ],
   "source": [
    "#Data source: \n",
    "#Source Query location: \n",
    "data = './Project_Data/all_accelerometer_data_pids_13.csv'\n",
    "# reads the data from the file - denotes as CSV, it has no header, sets column headers\n",
    "df =  pd.read_csv(data, sep=',')\n",
    "df = df.rename(columns={'time': 'timestamp'})\n",
    "#df['tiemstamp'] = pd.to_datetime(df.iloc[:,0],unit='ns')\n",
    "df['timestamp'] = pd.to_datetime(df['timestamp'], unit='ms')\n",
    "df['timestamp2'] = df['timestamp'].astype('datetime64[s]')\n",
    "#df = df['timestamp'].dt.floor('s')\n",
    "df['MAX_500'] = df.x.rolling(window=500).mean()\n",
    "df['MAY_500'] = df.y.rolling(window=500).mean()\n",
    "df['MAZ_500'] = df.z.rolling(window=500).mean()\n",
    "df['MAX_1000'] = df.x.rolling(window=1000).mean()\n",
    "df['MAY_1000'] = df.y.rolling(window=1000).mean()\n",
    "df['MAZ_1000'] = df.z.rolling(window=1000).mean()\n",
    "df['MAX_5000'] = df.x.rolling(window=5000).mean()\n",
    "df['MAY_5000'] = df.y.rolling(window=5000).mean()\n",
    "df['MAZ_5000'] = df.z.rolling(window=5000).mean()\n",
    "df.head(10)"
   ]
  },
  {
   "cell_type": "code",
   "execution_count": 3,
   "metadata": {},
   "outputs": [],
   "source": [
    "def create_frame(usr):\n",
    "    #vars()[usr]\n",
    "    maintmp = df[df['pid']==usr]\n",
    "    datatmp = './Project_Data/usr/' + usr + '.csv'\n",
    "    dftmp = pd.read_csv(datatmp, sep=',')\n",
    "    dftmp = dftmp.rename(columns={'timestamp': 'timestamp2'})\n",
    "    dftmp['timestamp2'] = pd.to_datetime(dftmp['timestamp2'], unit='s')\n",
    "    dftmp['timestamp2'] = dftmp['timestamp2'].astype('datetime64[s]')\n",
    "    df_out = pd.merge(maintmp, dftmp, on = \"timestamp2\", how='inner')\n",
    "    return df_out\n",
    "\n",
    "usrs = ['SA0297', 'PC6771', 'BK7610', 'DC6359', 'MC7070', 'MJ8002','BU4707', 'JR8022', 'HV0618', 'SF3079', 'JB3156', 'CC6740']\n",
    "SA = create_frame(usrs[0])\n",
    "PC = create_frame(usrs[1])\n",
    "BK = create_frame(usrs[2])\n",
    "DC = create_frame(usrs[3])\n",
    "MC = create_frame(usrs[4])\n",
    "MJ = create_frame(usrs[5])\n",
    "BU = create_frame(usrs[6])\n",
    "JR = create_frame(usrs[7])\n",
    "HV = create_frame(usrs[8])\n",
    "SF = create_frame(usrs[9])\n",
    "JB = create_frame(usrs[10])\n",
    "CC = create_frame(usrs[11])"
   ]
  },
  {
   "cell_type": "code",
   "execution_count": 4,
   "metadata": {},
   "outputs": [],
   "source": [
    "frames = [SA, PC, BK, DC, MC, MJ, BU, JR, HV, SF, JB, CC]\n",
    "df_all = pd.concat(frames)"
   ]
  },
  {
   "cell_type": "markdown",
   "metadata": {},
   "source": [
    "## 2.2 Describe Data <a class=\"anchor\" id=\"Describedata\"></a>\n"
   ]
  },
  {
   "cell_type": "code",
   "execution_count": 5,
   "metadata": {},
   "outputs": [
    {
     "name": "stdout",
     "output_type": "stream",
     "text": [
      "Data shape:\n",
      "(5510, 16)\n",
      "<class 'pandas.core.frame.DataFrame'>\n",
      "Int64Index: 5510 entries, 0 to 830\n",
      "Data columns (total 16 columns):\n",
      " #   Column       Non-Null Count  Dtype         \n",
      "---  ------       --------------  -----         \n",
      " 0   timestamp    5510 non-null   datetime64[ns]\n",
      " 1   pid          5510 non-null   object        \n",
      " 2   x            5510 non-null   float64       \n",
      " 3   y            5510 non-null   float64       \n",
      " 4   z            5510 non-null   float64       \n",
      " 5   timestamp2   5510 non-null   datetime64[ns]\n",
      " 6   MAX_500      5510 non-null   float64       \n",
      " 7   MAY_500      5510 non-null   float64       \n",
      " 8   MAZ_500      5510 non-null   float64       \n",
      " 9   MAX_1000     5510 non-null   float64       \n",
      " 10  MAY_1000     5510 non-null   float64       \n",
      " 11  MAZ_1000     5510 non-null   float64       \n",
      " 12  MAX_5000     5510 non-null   float64       \n",
      " 13  MAY_5000     5510 non-null   float64       \n",
      " 14  MAZ_5000     5510 non-null   float64       \n",
      " 15  TAC_Reading  5510 non-null   float64       \n",
      "dtypes: datetime64[ns](2), float64(13), object(1)\n",
      "memory usage: 731.8+ KB\n",
      "None\n"
     ]
    }
   ],
   "source": [
    "#This will validate our initial observation of the amount of unique records as well as attributes/column\n",
    "print('Data shape:')\n",
    "print(df_all.shape)\n",
    "print(df_all.info())"
   ]
  },
  {
   "cell_type": "code",
   "execution_count": 6,
   "metadata": {},
   "outputs": [
    {
     "name": "stdout",
     "output_type": "stream",
     "text": [
      "0      0.032672\n",
      "1      0.032672\n",
      "2      0.032672\n",
      "3      0.032672\n",
      "4      0.032672\n",
      "         ...   \n",
      "391   -0.021275\n",
      "392   -0.021275\n",
      "393   -0.021275\n",
      "394   -0.021275\n",
      "395   -0.021275\n",
      "Name: TAC_Reading, Length: 396, dtype: float64\n"
     ]
    }
   ],
   "source": [
    "print(df_all[df_all.pid=='SA0297']['TAC_Reading'])\n",
    "#print(df_all.timestamp2.shape[0])\n",
    "#df_all.to_csv('./test1.csv')"
   ]
  },
  {
   "cell_type": "markdown",
   "metadata": {},
   "source": [
    "## 2.3 Verify Data Quality <a class=\"anchor\" id=\"Verifydataquality\"></a>\n"
   ]
  },
  {
   "cell_type": "markdown",
   "metadata": {},
   "source": [
    "### 2.3.1. Missing Data <a class=\"anchor\" id=\"MissingData\"></a>\n",
    "The data is extremly complete, without any missing values. As such, no further cleaning needs to be done here."
   ]
  },
  {
   "cell_type": "code",
   "execution_count": 7,
   "metadata": {},
   "outputs": [
    {
     "name": "stdout",
     "output_type": "stream",
     "text": [
      "\n",
      "The selections has 16 columns.\n",
      "There are 0 columns that have missing values.\n",
      "Empty DataFrame\n",
      "Columns: [Missing Values, % of Total Values]\n",
      "Index: []\n"
     ]
    }
   ],
   "source": [
    "def missing_values_table(df):\n",
    "        mis_val = df.isnull().sum()\n",
    "        mis_val_percent = 100 * df.isnull().sum() / len(df)\n",
    "        mis_val_table = pd.concat([mis_val, mis_val_percent], axis=1)\n",
    "        mis_val_table_ren_columns = mis_val_table.rename(\n",
    "        columns = {0 : 'Missing Values', 1 : '% of Total Values'})\n",
    "        mis_val_table_ren_columns = mis_val_table_ren_columns[\n",
    "            mis_val_table_ren_columns.iloc[:,1] != 0].sort_values(\n",
    "        '% of Total Values', ascending=False).round(1)\n",
    "        print (\"\\nThe selections has \" + str(df.shape[1]) + \" columns.\\n\"      \n",
    "            \"There are \" + str(mis_val_table_ren_columns.shape[0]) +\n",
    "              \" columns that have missing values.\")\n",
    "        return mis_val_table_ren_columns\n",
    "    \n",
    "print(missing_values_table(df_all))"
   ]
  },
  {
   "cell_type": "markdown",
   "metadata": {},
   "source": [
    "### 2.3.2. Outliers <a class=\"anchor\" id=\"Outliers\"></a>\n",
    "To address outliers, we will look at the fields using a standard box-and-whisker plot, observing visually those data points which may need to be removed."
   ]
  },
  {
   "cell_type": "code",
   "execution_count": 8,
   "metadata": {
    "scrolled": false
   },
   "outputs": [
    {
     "name": "stdout",
     "output_type": "stream",
     "text": [
      "Error in format\n",
      "Error in format\n"
     ]
    },
    {
     "data": {
      "image/png": "[encoded data removed]",
      "text/plain": [
       "<Figure size 432x288 with 1 Axes>"
      ]
     },
     "metadata": {
      "needs_background": "light"
     },
     "output_type": "display_data"
    },
    {
     "data": {
      "image/png": "[encoded data removed]",
      "text/plain": [
       "<Figure size 432x288 with 1 Axes>"
      ]
     },
     "metadata": {
      "needs_background": "light"
     },
     "output_type": "display_data"
    },
    {
     "data": {
      "image/png": "[encoded data removed]",
      "text/plain": [
       "<Figure size 432x288 with 1 Axes>"
      ]
     },
     "metadata": {
      "needs_background": "light"
     },
     "output_type": "display_data"
    },
    {
     "name": "stdout",
     "output_type": "stream",
     "text": [
      "Error in format\n"
     ]
    },
    {
     "data": {
      "image/png": "[encoded data removed]",
      "text/plain": [
       "<Figure size 432x288 with 1 Axes>"
      ]
     },
     "metadata": {
      "needs_background": "light"
     },
     "output_type": "display_data"
    },
    {
     "data": {
      "image/png": "[encoded data removed]",
      "text/plain": [
       "<Figure size 432x288 with 1 Axes>"
      ]
     },
     "metadata": {
      "needs_background": "light"
     },
     "output_type": "display_data"
    },
    {
     "data": {
      "image/png": "[encoded data removed]",
      "text/plain": [
       "<Figure size 432x288 with 1 Axes>"
      ]
     },
     "metadata": {
      "needs_background": "light"
     },
     "output_type": "display_data"
    },
    {
     "data": {
      "image/png": "[encoded data removed]",
      "text/plain": [
       "<Figure size 432x288 with 1 Axes>"
      ]
     },
     "metadata": {
      "needs_background": "light"
     },
     "output_type": "display_data"
    },
    {
     "data": {
      "image/png": "[encoded data removed]",
      "text/plain": [
       "<Figure size 432x288 with 1 Axes>"
      ]
     },
     "metadata": {
      "needs_background": "light"
     },
     "output_type": "display_data"
    },
    {
     "data": {
      "image/png": "[encoded data removed]",
      "text/plain": [
       "<Figure size 432x288 with 1 Axes>"
      ]
     },
     "metadata": {
      "needs_background": "light"
     },
     "output_type": "display_data"
    },
    {
     "data": {
      "image/png": "[encoded data removed]",
      "text/plain": [
       "<Figure size 432x288 with 1 Axes>"
      ]
     },
     "metadata": {
      "needs_background": "light"
     },
     "output_type": "display_data"
    },
    {
     "data": {
      "image/png": "[encoded data removed]",
      "text/plain": [
       "<Figure size 432x288 with 1 Axes>"
      ]
     },
     "metadata": {
      "needs_background": "light"
     },
     "output_type": "display_data"
    },
    {
     "data": {
      "image/png": "[encoded data removed]",
      "text/plain": [
       "<Figure size 432x288 with 1 Axes>"
      ]
     },
     "metadata": {
      "needs_background": "light"
     },
     "output_type": "display_data"
    },
    {
     "data": {
      "image/png": "[encoded data removed]",
      "text/plain": [
       "<Figure size 432x288 with 1 Axes>"
      ]
     },
     "metadata": {
      "needs_background": "light"
     },
     "output_type": "display_data"
    }
   ],
   "source": [
    "for col in df_all:\n",
    "    try:\n",
    "        sns.boxplot(x=df_all[col])\n",
    "        plt.show()\n",
    "    except:\n",
    "        print('Error in format')"
   ]
  },
  {
   "cell_type": "markdown",
   "metadata": {},
   "source": [
    "While see what could be considered outliers, note the relative scales for each graph. None of the data points are completely out of line (as in an order of magnitude off), and we feel confident in leaving the dataset untouched in this regard."
   ]
  },
  {
   "cell_type": "markdown",
   "metadata": {},
   "source": [
    "## 2.4 Initial Data Exploration  <a class=\"anchor\" id=\"Exploredata\"></a>\n",
    "For a quick visual look at our key attribute of quality, consider a simple histogram. It is immediately clear that the vast majority of wines are in the right in the middle. We see few wines that are on the edges as very high quality or very poor quality."
   ]
  },
  {
   "cell_type": "markdown",
   "metadata": {},
   "source": [
    "### 2.4.1 Distributions  <a class=\"anchor\" id=\"Distributions\"></a>"
   ]
  },
  {
   "cell_type": "code",
   "execution_count": 9,
   "metadata": {},
   "outputs": [
    {
     "data": {
      "image/png": "[encoded data removed]",
      "text/plain": [
       "<Figure size 432x288 with 1 Axes>"
      ]
     },
     "metadata": {},
     "output_type": "display_data"
    }
   ],
   "source": [
    "# Histogram\n",
    "def hist_chart(df, col):\n",
    "        plt.style.use('fivethirtyeight')\n",
    "        plt.hist(df[col].dropna(), edgecolor = 'k');\n",
    "        plt.xlabel(col); plt.ylabel('Number of Entries');\n",
    "        plt.xticks(rotation=45)\n",
    "        plt.title('Distribution of '+col);\n",
    "        plt.show()\n",
    "\n",
    "        \n",
    "hist_chart(df_all, 'pid')"
   ]
  },
  {
   "cell_type": "markdown",
   "metadata": {},
   "source": [
    "### 2.4.2 Correlations  <a class=\"anchor\" id=\"Correlations\"></a>\n",
    " "
   ]
  },
  {
   "cell_type": "code",
   "execution_count": 10,
   "metadata": {},
   "outputs": [
    {
     "data": {
      "image/png": "[encoded data removed]",
      "text/plain": [
       "<Figure size 432x288 with 2 Axes>"
      ]
     },
     "metadata": {},
     "output_type": "display_data"
    }
   ],
   "source": [
    "matr = df_all.corr()\n",
    "sns.heatmap(matr,cmap='coolwarm')\n",
    "\n",
    "plt.show()"
   ]
  },
  {
   "cell_type": "code",
   "execution_count": 11,
   "metadata": {},
   "outputs": [
    {
     "name": "stdout",
     "output_type": "stream",
     "text": [
      "MAY_5000      -0.161057\n",
      "MAY_1000      -0.140065\n",
      "MAY_500       -0.092721\n",
      "MAX_5000      -0.013547\n",
      "z             -0.008131\n",
      "y              0.008131\n",
      "x              0.009054\n",
      "MAX_500        0.049736\n",
      "MAX_1000       0.072595\n",
      "MAZ_500        0.092721\n",
      "MAZ_1000       0.140065\n",
      "MAZ_5000       0.161057\n",
      "TAC_Reading    1.000000\n",
      "Name: TAC_Reading, dtype: float64\n"
     ]
    }
   ],
   "source": [
    "corr_data = df_all[df_all.columns[1:]].corr()['TAC_Reading'][:]\n",
    "sorted_corr_data = corr_data.sort_values(kind=\"quicksort\")\n",
    "print(sorted_corr_data)"
   ]
  },
  {
   "cell_type": "code",
   "execution_count": 12,
   "metadata": {},
   "outputs": [
    {
     "data": {
      "text/plain": [
       "<function matplotlib.pyplot.show(*args, **kw)>"
      ]
     },
     "execution_count": 12,
     "metadata": {},
     "output_type": "execute_result"
    },
    {
     "data": {
      "image/png": "[encoded data removed]",
      "text/plain": [
       "<Figure size 432x288 with 1 Axes>"
      ]
     },
     "metadata": {},
     "output_type": "display_data"
    }
   ],
   "source": [
    "plt.plot(BK.MAX_1000, label='x')\n",
    "plt.plot(df_all[df_all.pid=='BK7610']['TAC_Reading'], label='TAC')\n",
    "plt.show"
   ]
  },
  {
   "cell_type": "markdown",
   "metadata": {},
   "source": [
    "# 3. Data Preperation <a class=\"anchor\" id=\"Datapreperation\"></a>"
   ]
  },
  {
   "cell_type": "code",
   "execution_count": 13,
   "metadata": {},
   "outputs": [
    {
     "name": "stdout",
     "output_type": "stream",
     "text": [
      "Original shape of data\n",
      "(5510, 16)\n",
      "Shape after removing duplicates\n",
      "(5510, 16)\n"
     ]
    }
   ],
   "source": [
    "print('Original shape of data')\n",
    "print(df_all.shape)\n",
    "print('Shape after removing duplicates')\n",
    "df_all.drop_duplicates(keep='first')\n",
    "print(df_all.shape)"
   ]
  },
  {
   "cell_type": "markdown",
   "metadata": {},
   "source": [
    "Note that the shape remains the same after trying to remove duplicates. Thus no duplicate records exist."
   ]
  },
  {
   "cell_type": "markdown",
   "metadata": {},
   "source": [
    "## 3.2.3 Missing Values\n",
    "No missing values to address."
   ]
  },
  {
   "cell_type": "code",
   "execution_count": 14,
   "metadata": {},
   "outputs": [
    {
     "name": "stdout",
     "output_type": "stream",
     "text": [
      "(5510, 16)\n",
      "(5510, 16)\n"
     ]
    }
   ],
   "source": [
    "print(df_all.shape)\n",
    "df.dropna(inplace=True)\n",
    "print(df_all.shape)"
   ]
  },
  {
   "cell_type": "markdown",
   "metadata": {},
   "source": [
    "# 4 Regression"
   ]
  },
  {
   "cell_type": "code",
   "execution_count": 15,
   "metadata": {},
   "outputs": [
    {
     "name": "stdout",
     "output_type": "stream",
     "text": [
      "Baseline Errors\n",
      "Root Mean Squared Error:  0.05099002800457635\n",
      "Mean Absolute Error:  0.039912141789093976\n"
     ]
    }
   ],
   "source": [
    "var_col = ['MAX_500', 'MAY_500', 'MAZ_500', 'MAX_1000', 'MAY_1000', 'MAZ_1000', 'MAX_5000', 'MAY_5000', 'MAZ_5000']\n",
    "x = df_all[var_col]\n",
    "y = df_all.TAC_Reading\n",
    "\n",
    "avval = [np.mean(y) for i in y]\n",
    "print('Baseline Errors')\n",
    "print('Root Mean Squared Error: ',  np.sqrt(mean_squared_error(y, avval)))\n",
    "print('Mean Absolute Error: ', mean_absolute_error(y, avval))"
   ]
  },
  {
   "cell_type": "code",
   "execution_count": 16,
   "metadata": {},
   "outputs": [
    {
     "name": "stdout",
     "output_type": "stream",
     "text": [
      "Linear Regression  using  ['MAX_500', 'MAY_500', 'MAZ_500', 'MAX_1000', 'MAY_1000', 'MAZ_1000', 'MAX_5000', 'MAY_5000', 'MAZ_5000']\n",
      "Root Mean Squared Error:  0.04872868806827673\n",
      "Mean Absolute Error:  0.03748393494801018\n",
      "Linear Regression  using  Index(['MAY_1000', 'MAZ_1000', 'MAY_5000', 'MAZ_5000'], dtype='object')\n",
      "Root Mean Squared Error:  0.04932229648229949\n",
      "Mean Absolute Error:  0.038494711487117424\n"
     ]
    }
   ],
   "source": [
    "def evaluate_regression(mdl,mdl_name,x,y,cols):\n",
    "    x_train, x_test, y_train, y_test = train_test_split(x[cols], y, test_size=0.3, random_state=16)\n",
    "\n",
    "    scaler = StandardScaler().fit(x_train)\n",
    "    x_train = scaler.transform(x_train)\n",
    "    x_test = scaler.transform(x_test)\n",
    "\n",
    "    \n",
    "    mdl.fit(x_train,y_train)\n",
    "    predicted_data = mdl.predict(x_test)\n",
    "    print(mdl_name, ' using ', cols)\n",
    "    print('Root Mean Squared Error: ',  np.sqrt(mean_squared_error(y_test, predicted_data)))\n",
    "    print('Mean Absolute Error: ', mean_absolute_error(y_test, predicted_data))\n",
    "    #print('Accuracy: ', accuracy_score(y_test, predicted_data.round()))\n",
    "    #return predicted_data, y_train, y_test\n",
    "    \n",
    "    \n",
    "def plot_pred(pred,y_train, y_test, title):\n",
    "    plt.figure(figsize=(17,5))\n",
    "    plt.plot(y_train,label='Train')\n",
    "    plt.plot(y_test,label='Actual')\n",
    "    plt.plot(pred,label='Predicted')\n",
    "    plt.ylabel(\"TAC\")\n",
    "    plt.title(title,fontsize=20)\n",
    "    plt.legend()\n",
    "    plt.show()    \n",
    "\n",
    "    \n",
    "lg = LinearRegression()\n",
    "lg_name = 'Linear Regression'    \n",
    "    \n",
    "# Linear regression using all columns\n",
    "evaluate_regression(lg,lg_name,x,y,var_col)\n",
    "# plot_pred(lin, y_train, y_test, 'Linear')\n",
    "\n",
    "# Linear regression using higher correlation columns\n",
    "t = sorted_corr_data[var_col]\n",
    "corr_cols = t[abs(t) > .1].index\n",
    "evaluate_regression(lg,lg_name,x,y,corr_cols)"
   ]
  },
  {
   "cell_type": "code",
   "execution_count": 17,
   "metadata": {},
   "outputs": [
    {
     "name": "stdout",
     "output_type": "stream",
     "text": [
      "Decision Tree Regressor  using  ['MAX_500', 'MAY_500', 'MAZ_500', 'MAX_1000', 'MAY_1000', 'MAZ_1000', 'MAX_5000', 'MAY_5000', 'MAZ_5000']\n",
      "Root Mean Squared Error:  0.010649723881183076\n",
      "Mean Absolute Error:  0.0017567353635813774\n",
      "Decision Tree Regressor  using  Index(['MAY_1000', 'MAZ_1000', 'MAY_5000', 'MAZ_5000'], dtype='object')\n",
      "Root Mean Squared Error:  0.04457052656593603\n",
      "Mean Absolute Error:  0.028853714559092206\n"
     ]
    }
   ],
   "source": [
    "dtr = DecisionTreeRegressor()\n",
    "dtr_name = 'Decision Tree Regressor'\n",
    "\n",
    "# Linear regression using all columns\n",
    "evaluate_regression(dtr,dtr_name,x,y,var_col)\n",
    "\n",
    "# Linear regression using higher correlation columns\n",
    "t = sorted_corr_data[var_col]\n",
    "corr_cols = t[abs(t) > .1].index\n",
    "evaluate_regression(dtr,dtr_name,x,y,corr_cols)"
   ]
  },
  {
   "cell_type": "code",
   "execution_count": 18,
   "metadata": {},
   "outputs": [
    {
     "name": "stdout",
     "output_type": "stream",
     "text": [
      "Random Forest Regressor  using  ['MAX_500', 'MAY_500', 'MAZ_500', 'MAX_1000', 'MAY_1000', 'MAZ_1000', 'MAX_5000', 'MAY_5000', 'MAZ_5000']\n",
      "Root Mean Squared Error:  0.008596956019163339\n",
      "Mean Absolute Error:  0.0025504422174652606\n",
      "Random Forest Regressor  using  Index(['MAY_1000', 'MAZ_1000', 'MAY_5000', 'MAZ_5000'], dtype='object')\n",
      "Root Mean Squared Error:  0.04448942829167536\n",
      "Mean Absolute Error:  0.028941009808462745\n"
     ]
    }
   ],
   "source": [
    "rfr = RandomForestRegressor()\n",
    "rfr_name = 'Random Forest Regressor'\n",
    "\n",
    "# Linear regression using all columns\n",
    "evaluate_regression(rfr,rfr_name,x,y,var_col)\n",
    "\n",
    "# Linear regression using higher correlation columns\n",
    "t = sorted_corr_data[var_col]\n",
    "corr_cols = t[abs(t) > .1].index\n",
    "evaluate_regression(rfr,rfr_name,x,y,corr_cols)"
   ]
  },
  {
   "cell_type": "markdown",
   "metadata": {},
   "source": [
    "# 5 Binary Classification"
   ]
  },
  {
   "cell_type": "code",
   "execution_count": 19,
   "metadata": {},
   "outputs": [
    {
     "data": {
      "image/png": "[encoded data removed]",
      "text/plain": [
       "<Figure size 432x288 with 1 Axes>"
      ]
     },
     "metadata": {},
     "output_type": "display_data"
    }
   ],
   "source": [
    "df_all2 = df_all.copy()\n",
    "df_all2['Inebrietated'] = np.where(df_all2['TAC_Reading']>=.08,1,0)\n",
    "hist_chart(df_all2, 'Inebrietated')"
   ]
  },
  {
   "cell_type": "code",
   "execution_count": 20,
   "metadata": {},
   "outputs": [
    {
     "name": "stdout",
     "output_type": "stream",
     "text": [
      "z              -0.092750\n",
      "MAY_5000       -0.089022\n",
      "MAY_1000       -0.069809\n",
      "MAX_5000       -0.041162\n",
      "MAY_500        -0.031088\n",
      "MAZ_500         0.031088\n",
      "x               0.050060\n",
      "MAX_500         0.068091\n",
      "MAZ_1000        0.069809\n",
      "MAX_1000        0.077150\n",
      "MAZ_5000        0.089022\n",
      "y               0.092750\n",
      "TAC_Reading     0.811942\n",
      "Inebrietated    1.000000\n",
      "Name: Inebrietated, dtype: float64\n"
     ]
    }
   ],
   "source": [
    "corr_data2 = df_all2[df_all2.columns[1:]].corr()['Inebrietated'][:]\n",
    "sorted_corr_data2 = corr_data2.sort_values(kind=\"quicksort\")\n",
    "print(sorted_corr_data2)"
   ]
  },
  {
   "cell_type": "code",
   "execution_count": 21,
   "metadata": {},
   "outputs": [
    {
     "name": "stdout",
     "output_type": "stream",
     "text": [
      "Columns to check:  ['MAX_500', 'MAY_500', 'MAZ_500', 'MAX_1000', 'MAY_1000', 'MAZ_1000', 'MAX_5000', 'MAY_5000', 'MAZ_5000']\n"
     ]
    }
   ],
   "source": [
    "num_vars_bin = var_col\n",
    "print('Columns to check: ', num_vars_bin)\n",
    "x_bin = df_all2[num_vars_bin]\n",
    "y_bin = df_all2.Inebrietated\n",
    "\n",
    "x_train_bin, x_test_bin, y_train_bin, y_test_bin = train_test_split(x_bin, y_bin, test_size=0.3, random_state=16)\n",
    "\n",
    "scaler_bin = StandardScaler().fit(x_train_bin)\n",
    "x_train_bin = scaler_bin.transform(x_train_bin)\n",
    "x_test_bin = scaler_bin.transform(x_test_bin)\n",
    "\n",
    "def evaluate_bin(model, graph_flag):\n",
    "    out_bin = model.fit(x_train_bin, y_train_bin)\n",
    "    y_pred_bin = model.predict(x_test_bin)\n",
    "    cm_bin = confusion_matrix(y_test_bin, y_pred_bin)\n",
    "    print (\"Accuracy:\", accuracy_score(y_test_bin, y_pred_bin)) \n",
    "    print(\"Precision:\",metrics.precision_score(y_test_bin, y_pred_bin))\n",
    "    print(\"Recall:\",metrics.recall_score(y_test_bin, y_pred_bin))\n",
    "    print(\"F1:\", metrics.f1_score(y_test_bin,y_pred_bin))\n",
    "    if graph_flag == 1:\n",
    "        print (\"Confusion Matrix: \\n\", cm_bin)\n",
    "        sns.heatmap(cm_bin)\n",
    "    return out_bin"
   ]
  },
  {
   "cell_type": "code",
   "execution_count": 23,
   "metadata": {},
   "outputs": [
    {
     "name": "stdout",
     "output_type": "stream",
     "text": [
      "Accuracy: 0.3569267997580157\n",
      "Precision: 0.3065743944636678\n",
      "Recall: 0.878968253968254\n",
      "F1: 0.45459209851205745\n",
      "Confusion Matrix: \n",
      " [[ 147 1002]\n",
      " [  61  443]]\n"
     ]
    },
    {
     "data": {
      "image/png": "[encoded data removed]",
      "text/plain": [
       "<Figure size 432x288 with 2 Axes>"
      ]
     },
     "metadata": {},
     "output_type": "display_data"
    }
   ],
   "source": [
    "gnb = GaussianNB()\n",
    "gnb_train = evaluate_bin(gnb, 1)"
   ]
  },
  {
   "cell_type": "code",
   "execution_count": 24,
   "metadata": {},
   "outputs": [
    {
     "name": "stdout",
     "output_type": "stream",
     "text": [
      "Accuracy: 0.9897156684815487\n",
      "Precision: 0.9783889980353635\n",
      "Recall: 0.9880952380952381\n",
      "F1: 0.983218163869694\n",
      "Confusion Matrix: \n",
      " [[1138   11]\n",
      " [   6  498]]\n"
     ]
    },
    {
     "data": {
      "image/png": "[encoded data removed]",
      "text/plain": [
       "<Figure size 432x288 with 2 Axes>"
      ]
     },
     "metadata": {},
     "output_type": "display_data"
    }
   ],
   "source": [
    "xgb = XGBClassifier()\n",
    "xgb_train = evaluate_bin(xgb, 1)"
   ]
  },
  {
   "cell_type": "code",
   "execution_count": 25,
   "metadata": {},
   "outputs": [
    {
     "name": "stdout",
     "output_type": "stream",
     "text": [
      "Accuracy: 0.9782214156079855\n",
      "Precision: 0.9534883720930233\n",
      "Recall: 0.9761904761904762\n",
      "F1: 0.9647058823529412\n",
      "Confusion Matrix: \n",
      " [[1125   24]\n",
      " [  12  492]]\n"
     ]
    },
    {
     "data": {
      "image/png": "[encoded data removed]",
      "text/plain": [
       "<Figure size 432x288 with 2 Axes>"
      ]
     },
     "metadata": {},
     "output_type": "display_data"
    }
   ],
   "source": [
    "dtc_bin = DecisionTreeClassifier()\n",
    "dtc_train_bin = evaluate_bin(dtc_bin, 1)"
   ]
  }
 ],
 "metadata": {
  "kernelspec": {
   "display_name": "Python 3.7 (tensorflow)",
   "language": "python",
   "name": "tensorflow"
  },
  "language_info": {
   "codemirror_mode": {
    "name": "ipython",
    "version": 3
   },
   "file_extension": ".py",
   "mimetype": "text/x-python",
   "name": "python",
   "nbconvert_exporter": "python",
   "pygments_lexer": "ipython3",
   "version": "3.7.7"
  }
 },
 "nbformat": 4,
 "nbformat_minor": 2
}
