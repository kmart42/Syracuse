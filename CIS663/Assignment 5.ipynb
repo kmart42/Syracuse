{
 "cells": [
  {
   "cell_type": "markdown",
   "metadata": {},
   "source": [
    "# Assignment 5"
   ]
  },
  {
   "cell_type": "markdown",
   "metadata": {},
   "source": [
    "Kevin Martin <br>\n",
    "Syracuse University <br>\n",
    "CIS663 Wednesday @ 9:00pm EST"
   ]
  },
  {
   "cell_type": "markdown",
   "metadata": {},
   "source": [
    "## Question 1\n",
    "\n",
    "Given the described biometric algorithm which has 99% sensitivity, 99% specificity, and only 0.5% of people have been flagged, the probability that a randomly selected person that tested positive has been flagged is: <br>\n",
    "<br>\n",
    "P(Flagged|+): P(+|Flagged) x P(Flagged) / P(+) <br>\n",
    "<br>\n",
    "P(+|Flagged) = .99 <br>\n",
    "P(Flagged) = .005<br>\n",
    "P(+) = .99 x.005 + (1 - .99) x (1 - .005) = .0149<br>\n",
    "<br>\n",
    "P(Flagged|+) = .99 x .005 / 0.149 = .332215 = **33.22%**"
   ]
  },
  {
   "cell_type": "markdown",
   "metadata": {},
   "source": [
    "### b\n",
    "\n",
    "To increase the value of P(Flagged|+) to 45%, we would want to focus on specificity because of the low number of people flagged (0.5%). Using goal seek in Excel, we can target specificity and solve for 45%. Once we solve, we can achieve a P(Flagged|+) equal to 44.90% by increasing the specificity to .993897 or **99.39%**. This is only a .39% increase, but it has a significant impact on the overall results."
   ]
  },
  {
   "cell_type": "markdown",
   "metadata": {},
   "source": [
    "## Question 2\n",
    "\n",
    "Given the input has a Guassian distribution, mu = 5.1, sigma = 1.9, and we observe spikes that are two standard deviations above the mean, the outliers can be computed as follows (which yields only a single outlier):"
   ]
  },
  {
   "cell_type": "code",
   "execution_count": 14,
   "metadata": {},
   "outputs": [
    {
     "name": "stdout",
     "output_type": "stream",
     "text": [
      "Upper bound:  8.899999999999999\n",
      "Lower bound:  1.2999999999999998\n",
      "The outliers are:  [9.1]\n"
     ]
    }
   ],
   "source": [
    "data = [2.10, 4.20, 6.00, 4.50, 4.20, 4.30, 2.50, 6.90, 8.10, 7.00, 9.10, 5.30, 6.20,\n",
    "4.80, 1.80, 5.80, 3.30, 3.30, 4.00, 6.4]\n",
    "mu = 5.1\n",
    "sigma = 1.9\n",
    "devs = 2\n",
    "spike = sigma * devs\n",
    "upper, lower = mu + spike, mu - spike\n",
    "outliers = []\n",
    "print('Upper bound: ', upper)\n",
    "print('Lower bound: ', lower)\n",
    "for i in data:\n",
    "    if i < lower or i > upper:\n",
    "        outliers.append(i)\n",
    "print('The outliers are: ', outliers)"
   ]
  },
  {
   "cell_type": "markdown",
   "metadata": {},
   "source": [
    "## Question 3\n",
    "\n",
    "First, to generate a set of random numbers that follow a Gaussian distribution, I can use the numpy package \"random\" which includes the modifier normal. After generating 100 random samples with the given average and standard deviation, the resulting graph does indeed follow a Gaussian distribution.<br>\n",
    "<br>\n",
    "Next, I define a function based on the given login information. The function consists of the time penalties multiplied by their respective chances of happening for each of the four possible scenarios.<br>\n",
    "<br>\n",
    "Finally, I looped through each of the samples generated and found the average time per week for each \"user\". This is **~three and a half minutes**, with a standard deviation of **~one minute and twenty seconds**. I use approximations for the final times because it will fluctuate based on the number of samples and even on each subsequent run. However, this is the general answer the model comes up with.<br>\n",
    "<br>\n",
    "I ran 5,000 trials for two reasons. First, the more I increased the number of trials, the more the two output graphs resembled the ideal Gaussian distribution. I wanted a very clean graph to really show that the random numbers were indeed generated correctly. Second, this program is very short and runs incredibly fast. The differnece between generating 5 vs. 5,000 samples is neglible, so there was no downside/cost to running more. At 5,000 I feel as though this is more than reasonable for our given lockout scenario, and indeed demonstrates a classical Gaussian distribution."
   ]
  },
  {
   "cell_type": "code",
   "execution_count": 33,
   "metadata": {},
   "outputs": [
    {
     "name": "stdout",
     "output_type": "stream",
     "text": [
      "Distribution of samples generated:\n"
     ]
    },
    {
     "data": {
      "image/png": "[encoded data removed]",
      "text/plain": [
       "<Figure size 432x288 with 1 Axes>"
      ]
     },
     "metadata": {
      "needs_background": "light"
     },
     "output_type": "display_data"
    }
   ],
   "source": [
    "import numpy as np\n",
    "from matplotlib import pyplot\n",
    "mu = 25\n",
    "sigma = 10\n",
    "samples = 5000\n",
    "\n",
    "# generate random numbers using a Guassian distribution\n",
    "logins = np.random.normal(mu, sigma, samples)\n",
    "print('Distribution of samples generated:')\n",
    "pyplot.hist(logins)\n",
    "pyplot.show()"
   ]
  },
  {
   "cell_type": "code",
   "execution_count": 34,
   "metadata": {},
   "outputs": [
    {
     "name": "stdout",
     "output_type": "stream",
     "text": [
      "Average lockout time is: 3.45 minutes\n",
      "Standard deviation lockout time is: 1.34 minutes\n",
      "Distribution of average lockout times:\n"
     ]
    },
    {
     "data": {
      "image/png": "[encoded data removed]",
      "text/plain": [
       "<Figure size 432x288 with 1 Axes>"
      ]
     },
     "metadata": {
      "needs_background": "light"
     },
     "output_type": "display_data"
    }
   ],
   "source": [
    "from numpy import std\n",
    "# inputs\n",
    "verified = .85\n",
    "t0 = 0\n",
    "first = .13\n",
    "t1 = 5\n",
    "second = .015\n",
    "t2 = 60\n",
    "third = .005\n",
    "t3 = 60 * 24\n",
    "attempts = []\n",
    "\n",
    "def lockout(usr):\n",
    "    attempts.append(usr*((t0*verified)+(t1*first)+(t2*.005)+(t3*third)))\n",
    "\n",
    "for k in logins:\n",
    "    lockout(k)\n",
    "print('Average lockout time is: %.2f minutes' % (mean(attempts)/60))\n",
    "print('Standard deviation lockout time is: %.2f minutes' % (std(attempts)/60))\n",
    "print('Distribution of average lockout times:')\n",
    "pyplot.hist(attempts)\n",
    "pyplot.show()"
   ]
  }
 ],
 "metadata": {
  "kernelspec": {
   "display_name": "Python 3",
   "language": "python",
   "name": "python3"
  },
  "language_info": {
   "codemirror_mode": {
    "name": "ipython",
    "version": 3
   },
   "file_extension": ".py",
   "mimetype": "text/x-python",
   "name": "python",
   "nbconvert_exporter": "python",
   "pygments_lexer": "ipython3",
   "version": "3.7.7"
  }
 },
 "nbformat": 4,
 "nbformat_minor": 4
}
