{
 "cells": [
  {
   "cell_type": "markdown",
   "metadata": {},
   "source": [
    "# Kevin Martin CIS600 - Sunday @ 9:00pm EST"
   ]
  },
  {
   "cell_type": "markdown",
   "metadata": {},
   "source": [
    "HW2: Decision Tree Induction and Model Performance Evaluation"
   ]
  },
  {
   "cell_type": "markdown",
   "metadata": {},
   "source": [
    "\n",
    "\n",
    "**Outline:**\n",
    "1. [Business Objectives](#Businessobjectives)\n",
    "2. [Data Understanding](#Dataunderstanding)\n",
    "3. [Data Preparation](#Datapreparation)\n",
    "4. [Model Training/Testing](#Modeltrain)\n",
    "5. [Prediction](#Prediction)\n",
    "6. [Conclusion](#Conclusion)"
   ]
  },
  {
   "cell_type": "markdown",
   "metadata": {},
   "source": [
    "# 1. Business Objectives <a class=\"anchor\" id=\"Businessunderstanding\"></a>\n",
    "In this excersie, I will use a Decision Tree induction algorithm to predict whether or not a given city will experience rain the following day. The data is already organized in a way to help facilitate this, however the accuracy of the next day predicition is certainly unknown. \n",
    "\n",
    "I will first investigate the data further under the CRISP-DM framework, using common Python libraries (as described in Section 2) to help understanding where there might be errors and/or meaningfully missing data. After, I will perform a classification using a Decision Tree approach with \"stock\" parameters. Finally, I will try to tune the model to achieve better accuracy (as defined in Section 4).  "
   ]
  },
  {
   "cell_type": "markdown",
   "metadata": {},
   "source": [
    "## 1.1 Preliminary Assessment<a class=\"anchor\" id=\"Assessthecurrentsituation\"></a>"
   ]
  },
  {
   "cell_type": "markdown",
   "metadata": {},
   "source": [
    "Given there are over 50,000 records and 16 columns of training data, there appears to be a complete picture of the weather patterns in question. At the very least, multiple options are available to asses the both the quality of the data and any patterns that may emerge."
   ]
  },
  {
   "cell_type": "markdown",
   "metadata": {},
   "source": [
    " ## 1.2 Desired Outputs <a class=\"anchor\" id=\"Desiredoutputs\"></a>"
   ]
  },
  {
   "cell_type": "markdown",
   "metadata": {},
   "source": [
    "\n",
    "**Business success criteria**\n",
    "- Identifying attributes that are more likely to predict whether or not rain is likely\n",
    "- Provide further insight into how strong these attributes correlate to the predicition\n",
    "\n",
    "\n",
    "\n",
    "**Data mining success criteria**\n",
    "- Clean and prepare the data so no false conclusions are reached (avoiding the \"garbage-in-garbage-out\" paradigm)\n",
    "- Avoid erroneous patterns and bring errors down to an acceptable level"
   ]
  },
  {
   "cell_type": "markdown",
   "metadata": {},
   "source": [
    " ## 1.3 What Questions Are We Trying To Answer? <a class=\"anchor\" id=\"QA\"></a>"
   ]
  },
  {
   "cell_type": "markdown",
   "metadata": {},
   "source": [
    "- Our ultimate goal is to predict whether or not it will rain in a given location the following day."
   ]
  },
  {
   "cell_type": "markdown",
   "metadata": {},
   "source": [
    "# 2. Data Understanding <a class=\"anchor\" id=\"Dataunderstanding\"></a>"
   ]
  },
  {
   "cell_type": "markdown",
   "metadata": {},
   "source": [
    "## 2.1 Initial Data Report <a class=\"anchor\" id=\"Datareport\"></a>\n",
    "Data provided by professor, in a formatted CSV file. As the data has been purposely setup for the assignment, no issues noted with the initial acquisition. "
   ]
  },
  {
   "cell_type": "code",
   "execution_count": 2,
   "metadata": {},
   "outputs": [],
   "source": [
    "# Import Libraries Required\n",
    "import pandas as pd\n",
    "import matplotlib.pyplot as plt\n",
    "%matplotlib inline\n",
    "import numpy as np\n",
    "import seaborn as sns\n",
    "import warnings\n",
    "warnings.filterwarnings(\"ignore\")\n",
    "from numpy import nan\n",
    "from sklearn import decomposition, datasets\n",
    "from sklearn import tree\n",
    "from sklearn.pipeline import Pipeline\n",
    "from sklearn.metrics import roc_auc_score\n",
    "from sklearn import metrics\n",
    "from sklearn.preprocessing import StandardScaler\n",
    "from sklearn.linear_model import LogisticRegression\n",
    "from sklearn.tree import DecisionTreeClassifier\n",
    "from sklearn.metrics import confusion_matrix \n",
    "from sklearn.model_selection import train_test_split, GridSearchCV, cross_val_score, cross_validate, ShuffleSplit, LeaveOneOut"
   ]
  },
  {
   "cell_type": "code",
   "execution_count": 3,
   "metadata": {},
   "outputs": [],
   "source": [
    "#Data source: \n",
    "#Source Query location: \n",
    "test_data = '/home/kebin/Syracuse/Syracuse/CIS600/HW2/WeatherForecastTesting.csv'\n",
    "train_data = '/home/kebin/Syracuse/Syracuse/CIS600/HW2/WeatherForecastTraining.csv'\n",
    "# reads the data from the file - denotes as CSV, it has no header, sets column headers\n",
    "df_test =  pd.read_csv(test_data, sep=',') \n",
    "df_train =  pd.read_csv(train_data, sep=',') "
   ]
  },
  {
   "cell_type": "markdown",
   "metadata": {},
   "source": [
    "## 2.2 Describe Data <a class=\"anchor\" id=\"Describedata\"></a>\n",
    "The data has 15 columns and plenty of individual to train the models. Note that the Training Data set has the extra column of \"RainTomorrow\" which is of course the target feature. The Testing Data set is (correctly) omitting this column, but also has a column at the start \"ID\" which is just an individual record identifier. I will add the same to the training set, thus it will have one extra column.\n",
    "\n",
    "For brevity, I will present the generic metrics on just the training data."
   ]
  },
  {
   "cell_type": "code",
   "execution_count": 4,
   "metadata": {},
   "outputs": [
    {
     "name": "stdout",
     "output_type": "stream",
     "text": [
      "Test data:\n",
      "(12994, 16)\n",
      "Training data:\n",
      "(51978, 17)\n"
     ]
    }
   ],
   "source": [
    "#This will validate our initial observation of the amount of unique records as well as attributes/column\n",
    "print('Test data:')\n",
    "print(df_test.shape)\n",
    "print('Training data:')\n",
    "print(df_train.shape)"
   ]
  },
  {
   "cell_type": "code",
   "execution_count": 5,
   "metadata": {},
   "outputs": [
    {
     "name": "stdout",
     "output_type": "stream",
     "text": [
      "Test data:\n",
      "                 ID       MinTemp       MaxTemp      Rainfall  Evaporation  \\\n",
      "count  12994.000000  12947.000000  12976.000000  12833.000000  7478.000000   \n",
      "mean    6497.500000     12.497969     22.491685      3.650495     5.148930   \n",
      "std     3751.189034      6.388597      7.099027     11.031150     4.021726   \n",
      "min        1.000000     -6.500000     -3.700000      0.000000     0.000000   \n",
      "25%     3249.250000      7.900000     17.300000      0.000000     2.400000   \n",
      "50%     6497.500000     12.100000     21.700000      0.000000     4.400000   \n",
      "75%     9745.750000     17.100000     27.400000      2.200000     7.000000   \n",
      "max    12994.000000     29.700000     46.900000    367.600000    86.200000   \n",
      "\n",
      "          Sunshine  WindGustSpeed     WindSpeed      Humidity      Pressure  \\\n",
      "count  6900.000000   12074.000000  12733.000000  12645.000000  11701.000000   \n",
      "mean      6.577928      42.016730     19.078379     57.240490   1014.200752   \n",
      "std       3.933243      14.741531      9.200108     21.854321      7.296169   \n",
      "min       0.000000       7.000000      0.000000      1.000000    980.200000   \n",
      "25%       3.200000      31.000000     13.000000     42.000000   1009.300000   \n",
      "50%       7.000000      39.000000     19.000000     58.000000   1014.200000   \n",
      "75%       9.900000      50.000000     24.000000     73.000000   1019.100000   \n",
      "max      14.000000     135.000000     87.000000    100.000000   1037.200000   \n",
      "\n",
      "             Cloud          Temp  \n",
      "count  7974.000000  12727.000000  \n",
      "mean      5.113995     20.825206  \n",
      "std       2.642630      6.925212  \n",
      "min       0.000000     -4.100000  \n",
      "25%       3.000000     15.800000  \n",
      "50%       6.000000     20.100000  \n",
      "75%       7.000000     25.400000  \n",
      "max       8.000000     46.200000  \n"
     ]
    }
   ],
   "source": [
    "print('Test data:')\n",
    "print(df_test.describe())"
   ]
  },
  {
   "cell_type": "code",
   "execution_count": 6,
   "metadata": {},
   "outputs": [
    {
     "name": "stdout",
     "output_type": "stream",
     "text": [
      "<class 'pandas.core.frame.DataFrame'>\n",
      "RangeIndex: 51978 entries, 0 to 51977\n",
      "Data columns (total 17 columns):\n",
      " #   Column         Non-Null Count  Dtype  \n",
      "---  ------         --------------  -----  \n",
      " 0   ID             51978 non-null  int64  \n",
      " 1   Location       51978 non-null  object \n",
      " 2   MinTemp        51694 non-null  float64\n",
      " 3   MaxTemp        51849 non-null  float64\n",
      " 4   Rainfall       51231 non-null  float64\n",
      " 5   Evaporation    29425 non-null  float64\n",
      " 6   Sunshine       27103 non-null  float64\n",
      " 7   WindGustDir    48380 non-null  object \n",
      " 8   WindGustSpeed  48407 non-null  float64\n",
      " 9   WindDir        50465 non-null  object \n",
      " 10  WindSpeed      50954 non-null  float64\n",
      " 11  Humidity       50549 non-null  float64\n",
      " 12  Pressure       46912 non-null  float64\n",
      " 13  Cloud          31848 non-null  float64\n",
      " 14  Temp           50915 non-null  float64\n",
      " 15  RainToday      51231 non-null  object \n",
      " 16  RainTomorrow   51978 non-null  object \n",
      "dtypes: float64(11), int64(1), object(5)\n",
      "memory usage: 6.7+ MB\n",
      "None\n"
     ]
    }
   ],
   "source": [
    "# We can now look a little more closely at the columns and see the data types as well as potential missing data\n",
    "print(df_train.info())"
   ]
  },
  {
   "cell_type": "markdown",
   "metadata": {},
   "source": [
    "## 2.3 Verify Data Quality <a class=\"anchor\" id=\"Verifydataquality\"></a>\n"
   ]
  },
  {
   "cell_type": "markdown",
   "metadata": {},
   "source": [
    "### 2.3.1. Missing Data <a class=\"anchor\" id=\"MissingData\"></a>\n",
    "The data was mostly complete. Using the below  code, we can see that 14 of the 16 columns have missing data. Furthermore, and importantly, no column had over 50% data missing. This is consistent between both the training and testing data. Thus, none of the columns needed to be removed. Of course we don't want to remove information, however if there was a high percentage of missing values in a single field, we would want to exclude from our evenutal model. Again, that was not the case here.\n"
   ]
  },
  {
   "cell_type": "code",
   "execution_count": 7,
   "metadata": {},
   "outputs": [
    {
     "name": "stdout",
     "output_type": "stream",
     "text": [
      "\n",
      "The selections has 16 columns.\n",
      "There are 14 columns that have missing values.\n",
      "               Missing Values  % of Total Values\n",
      "Sunshine                 6094               46.9\n",
      "Evaporation              5516               42.5\n",
      "Cloud                    5020               38.6\n",
      "Pressure                 1293               10.0\n",
      "WindGustDir               929                7.1\n",
      "WindGustSpeed             920                7.1\n",
      "WindDir                   387                3.0\n",
      "Humidity                  349                2.7\n",
      "Temp                      267                2.1\n",
      "WindSpeed                 261                2.0\n",
      "Rainfall                  161                1.2\n",
      "RainToday                 161                1.2\n",
      "MinTemp                    47                0.4\n",
      "MaxTemp                    18                0.1\n",
      "\n",
      "The selections has 17 columns.\n",
      "There are 14 columns that have missing values.\n",
      "               Missing Values  % of Total Values\n",
      "Sunshine                24875               47.9\n",
      "Evaporation             22553               43.4\n",
      "Cloud                   20130               38.7\n",
      "Pressure                 5066                9.7\n",
      "WindGustDir              3598                6.9\n",
      "WindGustSpeed            3571                6.9\n",
      "WindDir                  1513                2.9\n",
      "Humidity                 1429                2.7\n",
      "Temp                     1063                2.0\n",
      "WindSpeed                1024                2.0\n",
      "Rainfall                  747                1.4\n",
      "RainToday                 747                1.4\n",
      "MinTemp                   284                0.5\n",
      "MaxTemp                   129                0.2\n"
     ]
    }
   ],
   "source": [
    "def missing_values_table(df):\n",
    "        mis_val = df.isnull().sum()\n",
    "        mis_val_percent = 100 * df.isnull().sum() / len(df)\n",
    "        mis_val_table = pd.concat([mis_val, mis_val_percent], axis=1)\n",
    "        mis_val_table_ren_columns = mis_val_table.rename(\n",
    "        columns = {0 : 'Missing Values', 1 : '% of Total Values'})\n",
    "        mis_val_table_ren_columns = mis_val_table_ren_columns[\n",
    "            mis_val_table_ren_columns.iloc[:,1] != 0].sort_values(\n",
    "        '% of Total Values', ascending=False).round(1)\n",
    "        print (\"\\nThe selections has \" + str(df.shape[1]) + \" columns.\\n\"      \n",
    "            \"There are \" + str(mis_val_table_ren_columns.shape[0]) +\n",
    "              \" columns that have missing values.\")\n",
    "        return mis_val_table_ren_columns\n",
    "    \n",
    "print(missing_values_table(df_test))\n",
    "print(missing_values_table(df_train))"
   ]
  },
  {
   "cell_type": "code",
   "execution_count": 8,
   "metadata": {
    "scrolled": false
   },
   "outputs": [
    {
     "name": "stdout",
     "output_type": "stream",
     "text": [
      "\n",
      "The selections has 17 columns.\n",
      "There are 14 columns that have missing values.\n",
      "There are 0 columns missing more than half the data.\n",
      "\n",
      "The selections has 16 columns.\n",
      "There are 14 columns that have missing values.\n",
      "\n",
      "There are 0 columns missing more than half the data.\n"
     ]
    }
   ],
   "source": [
    "# Get the columns with > 50% missing\n",
    "missing_train = missing_values_table(df_train);\n",
    "miss_col_train = list(missing_train[missing_train['% of Total Values'] > 50].index)\n",
    "print('There are %d columns missing more than half the data.' % len(miss_col_train))\n",
    "missing_test = missing_values_table(df_test);\n",
    "miss_col_test = list(missing_test[missing_test['% of Total Values'] > 50].index)\n",
    "print('\\nThere are %d columns missing more than half the data.' % len(miss_col_test))"
   ]
  },
  {
   "cell_type": "markdown",
   "metadata": {},
   "source": [
    "### 2.3.2. Outliers <a class=\"anchor\" id=\"Outliers\"></a>\n",
    "To address outliers, we will look at a couple of potentially key fields that are of the ratio type. Specifically, temperature for both the testing and training data sets, just to make sure we are seeing similar patterns."
   ]
  },
  {
   "cell_type": "code",
   "execution_count": 9,
   "metadata": {
    "scrolled": false
   },
   "outputs": [
    {
     "data": {
      "image/png": "[encoded data removed]",
      "text/plain": [
       "<Figure size 432x288 with 1 Axes>"
      ]
     },
     "metadata": {
      "needs_background": "light"
     },
     "output_type": "display_data"
    }
   ],
   "source": [
    "# Temp (train) outliers check\n",
    "frame_train = pd.DataFrame(df_train)\n",
    "sns.boxplot(x=frame_train['Temp'])\n",
    "plt.show()"
   ]
  },
  {
   "cell_type": "code",
   "execution_count": 10,
   "metadata": {},
   "outputs": [
    {
     "data": {
      "image/png": "[encoded data removed]",
      "text/plain": [
       "<Figure size 432x288 with 1 Axes>"
      ]
     },
     "metadata": {
      "needs_background": "light"
     },
     "output_type": "display_data"
    }
   ],
   "source": [
    "# Temp (test) outliers check\n",
    "frame_test = pd.DataFrame(df_test)\n",
    "sns.boxplot(x=frame_test['Temp'])\n",
    "plt.show()"
   ]
  },
  {
   "cell_type": "markdown",
   "metadata": {},
   "source": [
    "## 2.4 Initial Data Exploration  <a class=\"anchor\" id=\"Exploredata\"></a>\n",
    "For a quick visual look at our key attribute of Attrition, consider a simple histogram. It is immediately clear that the vast majority of employees do not leave. This will help tailor our further investigation, as well as alert us that negative bias may be present as the data is not very \"balanced\". That is fine, but we must be aware. "
   ]
  },
  {
   "cell_type": "markdown",
   "metadata": {},
   "source": [
    "### 2.4.1 Distributions  <a class=\"anchor\" id=\"Distributions\"></a>"
   ]
  },
  {
   "cell_type": "code",
   "execution_count": 11,
   "metadata": {},
   "outputs": [
    {
     "data": {
      "image/png": "[encoded data removed]",
      "text/plain": [
       "<Figure size 432x288 with 1 Axes>"
      ]
     },
     "metadata": {},
     "output_type": "display_data"
    }
   ],
   "source": [
    "# Histogram\n",
    "df2 = pd.DataFrame(df_train)\n",
    "df2['RainTomorrow'] = df2['RainTomorrow'].astype('category').cat.codes\n",
    "def hist_chart(df, col):\n",
    "        plt.style.use('fivethirtyeight')\n",
    "        plt.hist(df[col].dropna(), edgecolor = 'k');\n",
    "        plt.xlabel(col); plt.ylabel('Number of Entries'); \n",
    "        plt.title('Distribution of '+col);\n",
    "        plt.show()\n",
    "\n",
    "        \n",
    "hist_chart(df2, 'RainTomorrow')"
   ]
  },
  {
   "cell_type": "markdown",
   "metadata": {},
   "source": [
    "### 2.4.2 Correlations  <a class=\"anchor\" id=\"Correlations\"></a>\n",
    "To get a general sense of corrleations, a heatmap across all vairables as compared to all others was generated. Clearly, there are some moderatey correlated attributes, but to the point of attrition, a more focused list of correlations was generated. Here, we can see the more relevant relationships and begin to map out where the focus of the analysis will be directed. "
   ]
  },
  {
   "cell_type": "code",
   "execution_count": 12,
   "metadata": {},
   "outputs": [
    {
     "data": {
      "text/plain": [
       "<Figure size 1440x1440 with 0 Axes>"
      ]
     },
     "metadata": {},
     "output_type": "display_data"
    },
    {
     "data": {
      "image/png": "[encoded data removed]",
      "text/plain": [
       "<Figure size 432x288 with 2 Axes>"
      ]
     },
     "metadata": {},
     "output_type": "display_data"
    }
   ],
   "source": [
    "fig=plt.figure(figsize=(18, 18), dpi= 80, facecolor='w', edgecolor='k')\n",
    "corr = df_train.corr()\n",
    "fig = plt.figure()\n",
    "ax = fig.add_subplot()\n",
    "cax = ax.matshow(corr,cmap='coolwarm')\n",
    "fig.colorbar(cax)\n",
    "ticks = np.arange(0, len(df_train.columns),1)\n",
    "ax.set_xticks(ticks)\n",
    "plt.xticks(rotation=90)\n",
    "ax.set_yticks(ticks)\n",
    "ax.set_xticklabels(df_train.columns)\n",
    "ax.set_yticklabels(df_train.columns)\n",
    "plt.show()\n"
   ]
  },
  {
   "cell_type": "code",
   "execution_count": 13,
   "metadata": {},
   "outputs": [
    {
     "name": "stdout",
     "output_type": "stream",
     "text": [
      "Sunshine        -0.520049\n",
      "Pressure        -0.262631\n",
      "Temp            -0.231652\n",
      "MaxTemp         -0.191726\n",
      "Evaporation     -0.156165\n",
      "MinTemp          0.098550\n",
      "WindSpeed        0.104496\n",
      "Rainfall         0.224206\n",
      "WindGustSpeed    0.262842\n",
      "Cloud            0.462725\n",
      "Humidity         0.513016\n",
      "RainTomorrow     1.000000\n",
      "Name: RainTomorrow, dtype: float64\n"
     ]
    }
   ],
   "source": [
    "df2 = pd.DataFrame(df_train)\n",
    "df2['RainTomorrow'] = df2['RainTomorrow'].astype('category').cat.codes\n",
    "corr_data = df2[df2.columns[1:]].corr()['RainTomorrow'][:]\n",
    "sorted_corr_data = corr_data.sort_values(kind=\"quicksort\")\n",
    "print(sorted_corr_data)"
   ]
  },
  {
   "cell_type": "markdown",
   "metadata": {},
   "source": [
    "# 3. Data Preperation <a class=\"anchor\" id=\"Datapreperation\"></a>"
   ]
  },
  {
   "cell_type": "markdown",
   "metadata": {},
   "source": [
    "## 3.1 Data Selection <a class=\"anchor\" id=\"Selectyourdata\"></a>\n",
    "With regards to the training data set, there are quite a few missing data points. As such, I will be dropping them to train the algorithm. As can be seen, there is still plenty of data left to accurately train the decision tree.\n",
    "\n",
    "However, for the testing data, I do not want to omit actual values which need a predicition. In this case, I will impute the missing values using the respective means for each column"
   ]
  },
  {
   "cell_type": "markdown",
   "metadata": {},
   "source": [
    "## 3.2 Clean The Data <a class=\"anchor\" id=\"Cleansethedata\"></a>"
   ]
  },
  {
   "cell_type": "markdown",
   "metadata": {},
   "source": [
    "### 3.2.1 Altering Data Types and Dealing with Zeros <a class=\"anchor\" id=\"AlteringDatatypes\"></a>\n",
    "Fortunately the data is pretty much all in a usable format. I will be adding a boolean column later just as a target column, but that will not require any alterations to the original data set.\n",
    "\n",
    "While there are some zeros, they appear to be in columns that are relevant (as in 0% humidity for the day). As such, I will leave them with the assumption that they were recorded correctly, especially considering the amount of missing data points (discussed later)."
   ]
  },
  {
   "cell_type": "markdown",
   "metadata": {},
   "source": [
    "### 3.2.2 Dealing With Duplicates <a class=\"anchor\" id=\"DealingDuplicates\"></a>"
   ]
  },
  {
   "cell_type": "code",
   "execution_count": 14,
   "metadata": {},
   "outputs": [
    {
     "name": "stdout",
     "output_type": "stream",
     "text": [
      "Original shape of data\n",
      "(51978, 17)\n",
      "Shape after removing duplicates\n",
      "(51978, 17)\n"
     ]
    }
   ],
   "source": [
    "print('Original shape of data')\n",
    "print(df_train.shape)\n",
    "print('Shape after removing duplicates')\n",
    "df_train.drop_duplicates(keep='first')\n",
    "print(df_train.shape)"
   ]
  },
  {
   "cell_type": "markdown",
   "metadata": {},
   "source": [
    "Note that the shape remains the same after trying to remove duplicates. Thus no duplicate records exist."
   ]
  },
  {
   "cell_type": "markdown",
   "metadata": {},
   "source": [
    "## 3.2.3 Missing Values\n",
    "There are quite a few missing values in our data set, so we will have to address before continuing. In order to determine the most accurate approach, I will create two new data frames off of the training data: df_train2 will have the missing values dropped. The result, as shown below, still leaves over 20,000 records to train on. My hypothesis is that this will be sufficient and will provide better accuracy.\n",
    "\n",
    "However, I will run a second test, df_train3 where I will impute the missing data (using the respective mean for each feature). Depending on the accuracy of each, I will use the better choice in my predicition. For the data cleaning portions, I will show the results of df_train2 as it has the true training number rather than the imputed means.\n",
    "\n",
    "Finally, because the test data set also suffers from the same issue, I will be using the impute method there as well. For actual predictions, I do not want to omit records. I believe this is the best solution, but having the secondary train data set will help support this assumption."
   ]
  },
  {
   "cell_type": "code",
   "execution_count": 15,
   "metadata": {},
   "outputs": [
    {
     "name": "stdout",
     "output_type": "stream",
     "text": [
      "(51978, 17)\n",
      "(21087, 17)\n"
     ]
    }
   ],
   "source": [
    "print(df_train.shape)\n",
    "#df_train2 = df_train.replace(0, nan)\n",
    "df_train2 = df_train\n",
    "df_train2.dropna(inplace=True)\n",
    "print(df_train2.shape)"
   ]
  },
  {
   "cell_type": "markdown",
   "metadata": {},
   "source": [
    "## 3.2.4 Altering Data\n",
    "Knowing that we will be using a decision tree, I will make a copule modifications to the data. First, I will make the RainToday and RainTomorrow integers, as opposed to a yes/no flag. Then I will add a column, RainBool, that will be True or False depending on if the corresponding RainTomorrow column is a 1 or 0. The boolean flag will be our target when running the algorithm."
   ]
  },
  {
   "cell_type": "code",
   "execution_count": 16,
   "metadata": {},
   "outputs": [
    {
     "data": {
      "text/plain": [
       "ID                 int64\n",
       "Location          object\n",
       "MinTemp          float64\n",
       "MaxTemp          float64\n",
       "Rainfall         float64\n",
       "Evaporation      float64\n",
       "Sunshine         float64\n",
       "WindGustDir       object\n",
       "WindGustSpeed    float64\n",
       "WindDir           object\n",
       "WindSpeed        float64\n",
       "Humidity         float64\n",
       "Pressure         float64\n",
       "Cloud            float64\n",
       "Temp             float64\n",
       "RainToday          int64\n",
       "RainTomorrow        int8\n",
       "RainBool            bool\n",
       "dtype: object"
      ]
     },
     "execution_count": 16,
     "metadata": {},
     "output_type": "execute_result"
    }
   ],
   "source": [
    "df_train2['RainToday'] = df_train2['RainToday'].map(dict(Yes=1, No=0))\n",
    "df_train2['RainBool'] = np.where(df_train2['RainTomorrow']==1,True,False)\n",
    "df_train2.RainBool=='True'\n",
    "\n",
    "df_train2.dtypes"
   ]
  },
  {
   "cell_type": "markdown",
   "metadata": {},
   "source": [
    "# 4. Model Training/Testing<a class=\"anchor\" id=\"Modeltrain\"></a>"
   ]
  },
  {
   "cell_type": "markdown",
   "metadata": {},
   "source": [
    "## 4.1 Initial Decision Tree\n",
    "To get a baseline, I'm going to first run a decision tree classification algorithm using the stock (unedited) values from sklearn. I will use a train/test split of 70/30. After comparing the results, I will try to tune the model to increase accuracy. Once satisfied with the results, I will run the same model on the actual testing data set for the predictions.\n",
    "\n",
    "Then, I will apply the exact same \"stock\" parameters to the df_train3 set in order to see if the imputed means skew the results."
   ]
  },
  {
   "cell_type": "code",
   "execution_count": 17,
   "metadata": {},
   "outputs": [
    {
     "name": "stdout",
     "output_type": "stream",
     "text": [
      "(14760,)\n"
     ]
    },
    {
     "data": {
      "image/png": "[encoded data removed]",
      "text/plain": [
       "<Figure size 432x288 with 1 Axes>"
      ]
     },
     "metadata": {},
     "output_type": "display_data"
    }
   ],
   "source": [
    "num_vars = df_train2.select_dtypes(['int64', 'float64']).columns\n",
    "X = df_train2[num_vars]\n",
    "y = df_train2.RainBool\n",
    "\n",
    "X_train, X_test, y_train, y_test = train_test_split(X, y, test_size=0.3, random_state=16)\n",
    "\n",
    "clf = DecisionTreeClassifier()\n",
    "clf.fit(X_train, y_train)\n",
    "\n",
    "y_pred = clf.predict(X_test)\n",
    "y_pred = np.where(y_pred==True, 1, 0)\n",
    "\n",
    "plt.hist(y_pred, bins=2)\n",
    "plt.xticks(range(0, 2))\n",
    "plt.show()"
   ]
  },
  {
   "cell_type": "code",
   "execution_count": 18,
   "metadata": {},
   "outputs": [
    {
     "name": "stdout",
     "output_type": "stream",
     "text": [
      "Accuracy: 72.4%\n"
     ]
    }
   ],
   "source": [
    "print(f\"Accuracy: {round(metrics.accuracy_score(y_test, y_pred)*100, 2)}%\")"
   ]
  },
  {
   "cell_type": "code",
   "execution_count": 19,
   "metadata": {},
   "outputs": [
    {
     "data": {
      "text/html": [
       "<div>\n",
       "<style scoped>\n",
       "    .dataframe tbody tr th:only-of-type {\n",
       "        vertical-align: middle;\n",
       "    }\n",
       "\n",
       "    .dataframe tbody tr th {\n",
       "        vertical-align: top;\n",
       "    }\n",
       "\n",
       "    .dataframe thead th {\n",
       "        text-align: right;\n",
       "    }\n",
       "</style>\n",
       "<table border=\"1\" class=\"dataframe\">\n",
       "  <thead>\n",
       "    <tr style=\"text-align: right;\">\n",
       "      <th>Pred</th>\n",
       "      <th>0</th>\n",
       "      <th>1</th>\n",
       "    </tr>\n",
       "    <tr>\n",
       "      <th>RainBool</th>\n",
       "      <th></th>\n",
       "      <th></th>\n",
       "    </tr>\n",
       "  </thead>\n",
       "  <tbody>\n",
       "    <tr>\n",
       "      <th>False</th>\n",
       "      <td>2321</td>\n",
       "      <td>891</td>\n",
       "    </tr>\n",
       "    <tr>\n",
       "      <th>True</th>\n",
       "      <td>855</td>\n",
       "      <td>2260</td>\n",
       "    </tr>\n",
       "  </tbody>\n",
       "</table>\n",
       "</div>"
      ],
      "text/plain": [
       "Pred         0     1\n",
       "RainBool            \n",
       "False     2321   891\n",
       "True       855  2260"
      ]
     },
     "execution_count": 19,
     "metadata": {},
     "output_type": "execute_result"
    }
   ],
   "source": [
    "df_confusion = pd.crosstab(y_test, y_pred)\n",
    "df_confusion.columns.name = \"Pred\"\n",
    "df_confusion"
   ]
  },
  {
   "cell_type": "code",
   "execution_count": 20,
   "metadata": {},
   "outputs": [
    {
     "name": "stdout",
     "output_type": "stream",
     "text": [
      "              precision    recall  f1-score   support\n",
      "\n",
      "       False       0.73      0.72      0.73      3212\n",
      "        True       0.72      0.73      0.72      3115\n",
      "\n",
      "    accuracy                           0.72      6327\n",
      "   macro avg       0.72      0.72      0.72      6327\n",
      "weighted avg       0.72      0.72      0.72      6327\n",
      "\n"
     ]
    }
   ],
   "source": [
    "print(metrics.classification_report(y_test, y_pred))"
   ]
  },
  {
   "cell_type": "markdown",
   "metadata": {},
   "source": [
    "As shown by the result metrics, the algorithm is definitely performing some classifications correctly, but at ~73% accuracy, it is ok, but I'm hoping to do better. Next, the imputed data set, which was setup in the exact same way as df_train2, except the dropna has been replaced with fillna:"
   ]
  },
  {
   "cell_type": "code",
   "execution_count": 173,
   "metadata": {},
   "outputs": [
    {
     "data": {
      "image/png": "[encoded data removed]",
      "text/plain": [
       "<Figure size 432x288 with 1 Axes>"
      ]
     },
     "metadata": {},
     "output_type": "display_data"
    }
   ],
   "source": [
    "train_data3 = '/home/kebin/Syracuse/Syracuse/CIS600/HW2/WeatherForecastTraining.csv'\n",
    "df_train3 = pd.read_csv(train_data3, sep=',')\n",
    "df_3 = pd.DataFrame(df_train3)\n",
    "df_3['RainTomorrow'] = df_3['RainTomorrow'].astype('category').cat.codes\n",
    "df_train3['RainToday'] = df_train3['RainToday'].map(dict(Yes=1, No=0))\n",
    "df_train3.fillna(df_train3.mean(), inplace=True)\n",
    "df_train3['RainBool'] = np.where(df_train3['RainTomorrow']==1,True,False)\n",
    "df_train3.RainBool=='True'\n",
    "\n",
    "\n",
    "num_vars2 = df_train3.select_dtypes(['int64', 'float64']).columns\n",
    "X_3 = df_train3[num_vars2]\n",
    "y_3 = df_train3.RainBool\n",
    "\n",
    "X_train_3, X_test_3, y_train_3, y_test_3 = train_test_split(X_3, y_3, test_size=0.3, random_state=16)\n",
    "\n",
    "clf_3 = DecisionTreeClassifier()\n",
    "clf_3.fit(X_train_3, y_train_3)\n",
    "\n",
    "y_pred_3 = clf.predict(X_test_3)\n",
    "y_pred_3 = np.where(y_pred_3==True, 1, 0)\n",
    "\n",
    "plt.hist(y_pred_3, bins=2)\n",
    "plt.xticks(range(0, 2))\n",
    "plt.show()"
   ]
  },
  {
   "cell_type": "code",
   "execution_count": 174,
   "metadata": {},
   "outputs": [
    {
     "name": "stdout",
     "output_type": "stream",
     "text": [
      "Accuracy: 75.62%\n"
     ]
    }
   ],
   "source": [
    "print(f\"Accuracy: {round(metrics.accuracy_score(y_test_3, y_pred_3)*100, 2)}%\")"
   ]
  },
  {
   "cell_type": "code",
   "execution_count": 175,
   "metadata": {},
   "outputs": [
    {
     "data": {
      "text/html": [
       "<div>\n",
       "<style scoped>\n",
       "    .dataframe tbody tr th:only-of-type {\n",
       "        vertical-align: middle;\n",
       "    }\n",
       "\n",
       "    .dataframe tbody tr th {\n",
       "        vertical-align: top;\n",
       "    }\n",
       "\n",
       "    .dataframe thead th {\n",
       "        text-align: right;\n",
       "    }\n",
       "</style>\n",
       "<table border=\"1\" class=\"dataframe\">\n",
       "  <thead>\n",
       "    <tr style=\"text-align: right;\">\n",
       "      <th>Pred</th>\n",
       "      <th>0</th>\n",
       "      <th>1</th>\n",
       "    </tr>\n",
       "    <tr>\n",
       "      <th>RainBool</th>\n",
       "      <th></th>\n",
       "      <th></th>\n",
       "    </tr>\n",
       "  </thead>\n",
       "  <tbody>\n",
       "    <tr>\n",
       "      <th>False</th>\n",
       "      <td>5906</td>\n",
       "      <td>1997</td>\n",
       "    </tr>\n",
       "    <tr>\n",
       "      <th>True</th>\n",
       "      <td>1805</td>\n",
       "      <td>5886</td>\n",
       "    </tr>\n",
       "  </tbody>\n",
       "</table>\n",
       "</div>"
      ],
      "text/plain": [
       "Pred         0     1\n",
       "RainBool            \n",
       "False     5906  1997\n",
       "True      1805  5886"
      ]
     },
     "execution_count": 175,
     "metadata": {},
     "output_type": "execute_result"
    }
   ],
   "source": [
    "df_confusion_3 = pd.crosstab(y_test_3, y_pred_3)\n",
    "df_confusion_3.columns.name = \"Pred\"\n",
    "df_confusion_3"
   ]
  },
  {
   "cell_type": "markdown",
   "metadata": {},
   "source": [
    "Interesting results! Not only is the accuracy better, but it is classifying nearly twice as much data. This is very telling for two reasons: one, this is the more accurately trained model which I will use for the prediction, and two it helps justify the decision to impute the missing data on the testing set as well."
   ]
  },
  {
   "cell_type": "markdown",
   "metadata": {},
   "source": [
    "## 4.2 Grid Search\n",
    "In an effort to maximize performance, I will use a gird search as provided by scikit learn. The idea is that is should take the same dataset and same data split and optimize the hyper-parameters to provide the best classification accuracy.\n",
    "\n",
    "The criteria that I will use to determine accuracy will be given through cross validation. In this way, we can \"double check\" the results across the available data."
   ]
  },
  {
   "cell_type": "code",
   "execution_count": 176,
   "metadata": {},
   "outputs": [
    {
     "name": "stdout",
     "output_type": "stream",
     "text": [
      "Best Criterion: gini\n",
      "Best max_depth: 6\n",
      "Best Number Of Components: 11\n",
      "\n",
      "DecisionTreeClassifier(ccp_alpha=0.0, class_weight=None, criterion='gini',\n",
      "                       max_depth=6, max_features=None, max_leaf_nodes=None,\n",
      "                       min_impurity_decrease=0.0, min_impurity_split=None,\n",
      "                       min_samples_leaf=1, min_samples_split=2,\n",
      "                       min_weight_fraction_leaf=0.0, presort='deprecated',\n",
      "                       random_state=None, splitter='best')\n",
      "\n",
      "[0.53728357 0.71350519 0.70617208 0.5734185 ]\n",
      "\n",
      "0.6325948362943491\n",
      "\n",
      "0.07833609127369646\n"
     ]
    }
   ],
   "source": [
    "#Set up the grid search for a decision tree approach\n",
    "sc = StandardScaler()\n",
    "pca = decomposition.PCA()\n",
    "decisiontree = tree.DecisionTreeClassifier()\n",
    "\n",
    "# Create a pipeline for the tree\n",
    "pipe = Pipeline(steps=[('sc', sc),\n",
    "                       ('pca', pca),\n",
    "                       ('decisiontree', decisiontree)])\n",
    "\n",
    "#Set the parameters to test\n",
    "n_components = list(range(1,X.shape[1]+1,1))\n",
    "criterion = ['gini', 'entropy']\n",
    "max_depth = [4,6,8,12]\n",
    "parameters = dict(pca__n_components=n_components,\n",
    "                  decisiontree__criterion=criterion,\n",
    "                  decisiontree__max_depth=max_depth)\n",
    "\n",
    "#Check best parameters\n",
    "clf_G = GridSearchCV(pipe, parameters)\n",
    "clf_G.fit(X_3, y_3)\n",
    "\n",
    "#View The Best Parameters\n",
    "print('Best Criterion:', clf_G.best_estimator_.get_params()['decisiontree__criterion'])\n",
    "print('Best max_depth:', clf_G.best_estimator_.get_params()['decisiontree__max_depth'])\n",
    "print('Best Number Of Components:', clf_G.best_estimator_.get_params()['pca__n_components'])\n",
    "print(); print(clf_G.best_estimator_.get_params()['decisiontree'])\n",
    "\n",
    "#Use Cross Validation To Evaluate Model\n",
    "CV_Result = cross_val_score(clf_3, X_3, y_3, cv=4, n_jobs=-1)\n",
    "print(); print(CV_Result)\n",
    "print(); print(CV_Result.mean())\n",
    "print(); print(CV_Result.std())"
   ]
  },
  {
   "cell_type": "code",
   "execution_count": 183,
   "metadata": {},
   "outputs": [
    {
     "data": {
      "image/png": "[encoded data removed]",
      "text/plain": [
       "<Figure size 432x288 with 1 Axes>"
      ]
     },
     "metadata": {},
     "output_type": "display_data"
    }
   ],
   "source": [
    "#Create a new algorithm based on optimized grid search parameters\n",
    "clf2 = DecisionTreeClassifier(criterion=\"gini\", max_depth=6)\n",
    "clf2.fit(X_train_3, y_train_3)\n",
    "y_pred2 = clf2.predict(X_test_3)\n",
    "y_pred2 = np.where(y_pred2==True, 1, 0)\n",
    "\n",
    "plt.hist(y_pred2, bins=2)\n",
    "plt.xticks(range(0, 2))\n",
    "plt.show()"
   ]
  },
  {
   "cell_type": "code",
   "execution_count": 184,
   "metadata": {},
   "outputs": [
    {
     "name": "stdout",
     "output_type": "stream",
     "text": [
      "Updated Accuracy: 76.41%\n"
     ]
    }
   ],
   "source": [
    "print(f\"Updated Accuracy: {round(metrics.accuracy_score(y_test_3, y_pred2)*100, 2)}%\")"
   ]
  },
  {
   "cell_type": "code",
   "execution_count": 185,
   "metadata": {},
   "outputs": [
    {
     "data": {
      "text/html": [
       "<div>\n",
       "<style scoped>\n",
       "    .dataframe tbody tr th:only-of-type {\n",
       "        vertical-align: middle;\n",
       "    }\n",
       "\n",
       "    .dataframe tbody tr th {\n",
       "        vertical-align: top;\n",
       "    }\n",
       "\n",
       "    .dataframe thead th {\n",
       "        text-align: right;\n",
       "    }\n",
       "</style>\n",
       "<table border=\"1\" class=\"dataframe\">\n",
       "  <thead>\n",
       "    <tr style=\"text-align: right;\">\n",
       "      <th>Pred</th>\n",
       "      <th>0</th>\n",
       "      <th>1</th>\n",
       "    </tr>\n",
       "    <tr>\n",
       "      <th>RainBool</th>\n",
       "      <th></th>\n",
       "      <th></th>\n",
       "    </tr>\n",
       "  </thead>\n",
       "  <tbody>\n",
       "    <tr>\n",
       "      <th>False</th>\n",
       "      <td>6252</td>\n",
       "      <td>1651</td>\n",
       "    </tr>\n",
       "    <tr>\n",
       "      <th>True</th>\n",
       "      <td>2027</td>\n",
       "      <td>5664</td>\n",
       "    </tr>\n",
       "  </tbody>\n",
       "</table>\n",
       "</div>"
      ],
      "text/plain": [
       "Pred         0     1\n",
       "RainBool            \n",
       "False     6252  1651\n",
       "True      2027  5664"
      ]
     },
     "execution_count": 185,
     "metadata": {},
     "output_type": "execute_result"
    }
   ],
   "source": [
    "df_confusion = pd.crosstab(y_test_3, y_pred2)\n",
    "df_confusion.columns.name = \"Pred\"\n",
    "df_confusion"
   ]
  },
  {
   "cell_type": "code",
   "execution_count": 180,
   "metadata": {},
   "outputs": [
    {
     "name": "stdout",
     "output_type": "stream",
     "text": [
      "              precision    recall  f1-score   support\n",
      "\n",
      "       False       0.76      0.79      0.77      7903\n",
      "        True       0.77      0.74      0.76      7691\n",
      "\n",
      "    accuracy                           0.76     15594\n",
      "   macro avg       0.76      0.76      0.76     15594\n",
      "weighted avg       0.76      0.76      0.76     15594\n",
      "\n"
     ]
    }
   ],
   "source": [
    "print(metrics.classification_report(y_test_3, y_pred2))"
   ]
  },
  {
   "cell_type": "markdown",
   "metadata": {},
   "source": [
    "After running a grid search, we can see the optimal parameters are a criterion of gini, and a max depth of 6. The remaining parameters did not need to be altered from the default values. After the modifications, the prediction accuracy rose modestly, and we will use this model for our predictions"
   ]
  },
  {
   "cell_type": "markdown",
   "metadata": {},
   "source": [
    "# 5 Prediction <a class=\"anchor\" id=\"Prediction\"></a>\n",
    "With our optimized decision tree, I will rerun the algorithm only this time I will train on 100% of the training data and apply the results to the testing data. To show the results, I will add the requested new column \"DT\" that will display the results of my model.\n",
    "\n",
    "To address the large amounts of missing data from the test set, I do not want to simply delete these rows. With the training data, I still had plenty of rows leftover to test on and derive an accurate model. But for predictive purposes, I do not wish to ignore over half of the data.\n",
    "\n",
    "Instead, I will fill out the missing values with the mean for each respective column. As seen in the training data set comparisons, this approach makes sense."
   ]
  },
  {
   "cell_type": "code",
   "execution_count": 181,
   "metadata": {
    "scrolled": true
   },
   "outputs": [
    {
     "data": {
      "image/png": "[encoded data removed]",
      "text/plain": [
       "<Figure size 432x288 with 1 Axes>"
      ]
     },
     "metadata": {},
     "output_type": "display_data"
    }
   ],
   "source": [
    "#Apply optimized algorithm, clf2, to testing data\n",
    "#Add one dummy row to allow for 100% test split\n",
    "dummy_row = df_test.iloc[[0]]\n",
    "df_test = df_test.append(dummy_row)\n",
    "\n",
    "df_test['RainToday'] = df_test['RainToday'].map(dict(Yes=1, No=0))\n",
    "df_test.fillna(df_test.mean(), inplace=True)\n",
    "df_test['DT'] = 0\n",
    "X2 = df_test[num_vars]\n",
    "y2 = df_test.DT\n",
    "\n",
    "#Allow testing data to be 100%\n",
    "X_train2, X_test2, y_train2, y_test2 = train_test_split(X2, y2, test_size=12994, random_state=61)\n",
    "\n",
    "clf3 = DecisionTreeClassifier(criterion=\"entropy\", max_depth=6)\n",
    "clf3.fit(X_train2, y_train2)\n",
    "\n",
    "y_predF = clf2.predict(X_test2)\n",
    "y_predF = np.where(y_pred3==True, 1, 0)\n",
    "df_test['DT'] = pd.Series(y_predF)\n",
    "\n",
    "plt.hist(y_predF, bins=2)\n",
    "plt.xticks(range(0, 2))\n",
    "plt.show()"
   ]
  },
  {
   "cell_type": "code",
   "execution_count": 182,
   "metadata": {},
   "outputs": [],
   "source": [
    "#Export the final CSV File\n",
    "#Delete dummy row\n",
    "df_test = df_test[:-1]\n",
    "df_test['DT'] = df_test['DT'].map({1 : 'Yes', 0 : 'No'})\n",
    "df_test.to_csv('/home/kebin/Syracuse/Syracuse/CIS600/HW2/testKM.csv', float_format='%.2f', columns=['ID', 'DT'])"
   ]
  },
  {
   "cell_type": "markdown",
   "metadata": {},
   "source": [
    "# 6. Conclusion <a class=\"anchor\" id=\"Conclusion\"></a>\n",
    "Quickly, we can see that the number of days that are predicted to rain vastly outnumber those that are not, almost 2:1. We've arrived at this using a model that is ~76% accurate, which we've derived from two different approaches to training as well as a grid search to optimize the parameters on the best performing model. Finally, we've printed the results to a CSV file on the test data set, which the model did not see prior to making any predictions."
   ]
  }
 ],
 "metadata": {
  "kernelspec": {
   "display_name": "Python 3",
   "language": "python",
   "name": "python3"
  },
  "language_info": {
   "codemirror_mode": {
    "name": "ipython",
    "version": 3
   },
   "file_extension": ".py",
   "mimetype": "text/x-python",
   "name": "python",
   "nbconvert_exporter": "python",
   "pygments_lexer": "ipython3",
   "version": "3.8.3"
  }
 },
 "nbformat": 4,
 "nbformat_minor": 2
}
