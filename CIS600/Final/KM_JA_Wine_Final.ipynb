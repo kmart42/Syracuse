{
 "cells": [
  {
   "cell_type": "markdown",
   "metadata": {},
   "source": [
    "# Kevin Martin & Jeffrey Alexovich CIS600 - Sunday @ 9:00pm EST"
   ]
  },
  {
   "cell_type": "markdown",
   "metadata": {},
   "source": [
    "Final Project\n",
    "\n",
    "Dataset used: https://www.kaggle.com/uciml/red-wine-quality-cortez-et-al-2009"
   ]
  },
  {
   "cell_type": "markdown",
   "metadata": {},
   "source": [
    "\n",
    "\n",
    "**Outline:**\n",
    "1. [Business Objectives](#Businessobjectives)\n",
    "2. [Data Understanding](#Dataunderstanding)\n",
    "3. [Data Preparation](#Datapreparation)\n",
    "4. [Model Training/Testing](#Modeltrain)\n",
    "5. [Analysis](#Analysis)\n",
    "6. [Conclusion](#Conclusion)"
   ]
  },
  {
   "cell_type": "markdown",
   "metadata": {},
   "source": [
    "# 1. Business Objectives <a class=\"anchor\" id=\"Businessunderstanding\"></a>\n",
    "Use multiple classification algorithms to determine the quality of red wines based on a variety of characteristics."
   ]
  },
  {
   "cell_type": "markdown",
   "metadata": {},
   "source": [
    "## 1.1 Preliminary Assessment<a class=\"anchor\" id=\"Assessthecurrentsituation\"></a>"
   ]
  },
  {
   "cell_type": "markdown",
   "metadata": {},
   "source": [
    "The dataset has almost 1,600 records and 11 columns of data, and it appears to be very complete. There are no missing records, duplicate records, redundant columns, or irrelevant columns. Furthermore, all the features are numeric, which should aid in the success of our classification algorithms.\n",
    "\n",
    "However, with only 1,600 records we may not have enough to generate accurate models. We do not expect this to be a problem but are aware of this fact."
   ]
  },
  {
   "cell_type": "markdown",
   "metadata": {},
   "source": [
    " ## 1.2 Desired Outputs <a class=\"anchor\" id=\"Desiredoutputs\"></a>"
   ]
  },
  {
   "cell_type": "markdown",
   "metadata": {},
   "source": [
    "\n",
    "**Business success criteria**\n",
    "- Identifying attributes that are more likely to predict the quality of wine\n",
    "- Classify wine into a binary \"good\" or \"bad\" category\n",
    "- Classify wine into multiple categories based on their objective \"quality\" score\n",
    "\n",
    "\n",
    "**Data mining success criteria**\n",
    "- Clean and prepare the data so no false conclusions are reached (avoiding the \"garbage-in-garbage-out\" paradigm)\n",
    "- Avoid erroneous patterns and bring errors down to an acceptable level"
   ]
  },
  {
   "cell_type": "markdown",
   "metadata": {},
   "source": [
    " ## 1.3 What Questions Are We Trying To Answer? <a class=\"anchor\" id=\"QA\"></a>"
   ]
  },
  {
   "cell_type": "markdown",
   "metadata": {},
   "source": [
    "- Our ultimate goal is to predict whether or not we can predict the quality of a wine given its unique features."
   ]
  },
  {
   "cell_type": "markdown",
   "metadata": {},
   "source": [
    "# 2. Data Understanding <a class=\"anchor\" id=\"Dataunderstanding\"></a>"
   ]
  },
  {
   "cell_type": "markdown",
   "metadata": {},
   "source": [
    "## 2.1 Initial Data Report <a class=\"anchor\" id=\"Datareport\"></a> "
   ]
  },
  {
   "cell_type": "code",
   "execution_count": 185,
   "metadata": {},
   "outputs": [],
   "source": [
    "# Import Libraries Required\n",
    "import pandas as pd\n",
    "import matplotlib.pyplot as plt\n",
    "%matplotlib inline\n",
    "import numpy as np\n",
    "import seaborn as sns\n",
    "import warnings\n",
    "warnings.filterwarnings(\"ignore\")\n",
    "from numpy import nan\n",
    "from sklearn import decomposition, datasets\n",
    "from sklearn import tree\n",
    "from sklearn.pipeline import Pipeline\n",
    "from sklearn.metrics import roc_auc_score, classification_report\n",
    "from sklearn import metrics\n",
    "from sklearn.preprocessing import StandardScaler\n",
    "from sklearn.linear_model import LogisticRegression, LinearRegression\n",
    "from sklearn.tree import DecisionTreeClassifier\n",
    "from sklearn.metrics import confusion_matrix, accuracy_score, mean_absolute_error, roc_auc_score, mean_squared_error\n",
    "from sklearn.model_selection import train_test_split, GridSearchCV, cross_val_score, cross_validate, ShuffleSplit, LeaveOneOut, KFold\n",
    "from sklearn.ensemble import RandomForestClassifier, RandomForestRegressor\n",
    "from sklearn.tree import DecisionTreeClassifier, DecisionTreeRegressor\n",
    "from sklearn import tree\n",
    "from sklearn.metrics import accuracy_score\n",
    "from sklearn.naive_bayes import GaussianNB\n",
    "#from xgboost import XGBClassifier\n",
    "\n",
    "import keras\n",
    "from keras import models\n",
    "from keras.models import Sequential\n",
    "from keras.layers import Dense\n",
    "from keras.wrappers.scikit_learn import KerasClassifier, KerasRegressor"
   ]
  },
  {
   "cell_type": "code",
   "execution_count": 119,
   "metadata": {},
   "outputs": [],
   "source": [
    "#Data source: \n",
    "#Source Query location: \n",
    "red_data = './datasets_4458_8204_winequality-red.csv'\n",
    "# reads the data from the file - denotes as CSV, it has no header, sets column headers\n",
    "df =  pd.read_csv(red_data, sep=',') "
   ]
  },
  {
   "cell_type": "markdown",
   "metadata": {},
   "source": [
    "## 2.2 Describe Data <a class=\"anchor\" id=\"Describedata\"></a>\n",
    "The data has 12 columns, all of which are numeric. The final column, \"quality\", is the target column, which is rating from 1-10 of quality (1 being the worst and 10 being the best).\n",
    "\n",
    "Additionally, all the feature columns are of type float, while the target column is of type int. This will make it easier to select the features as we will simply omit the single int column."
   ]
  },
  {
   "cell_type": "code",
   "execution_count": 120,
   "metadata": {},
   "outputs": [
    {
     "name": "stdout",
     "output_type": "stream",
     "text": [
      "Data shape:\n",
      "(1599, 12)\n",
      "<class 'pandas.core.frame.DataFrame'>\n",
      "RangeIndex: 1599 entries, 0 to 1598\n",
      "Data columns (total 12 columns):\n",
      " #   Column                Non-Null Count  Dtype  \n",
      "---  ------                --------------  -----  \n",
      " 0   fixed acidity         1599 non-null   float64\n",
      " 1   volatile acidity      1599 non-null   float64\n",
      " 2   citric acid           1599 non-null   float64\n",
      " 3   residual sugar        1599 non-null   float64\n",
      " 4   chlorides             1599 non-null   float64\n",
      " 5   free sulfur dioxide   1599 non-null   float64\n",
      " 6   total sulfur dioxide  1599 non-null   float64\n",
      " 7   density               1599 non-null   float64\n",
      " 8   pH                    1599 non-null   float64\n",
      " 9   sulphates             1599 non-null   float64\n",
      " 10  alcohol               1599 non-null   float64\n",
      " 11  quality               1599 non-null   int64  \n",
      "dtypes: float64(11), int64(1)\n",
      "memory usage: 150.0 KB\n",
      "None\n"
     ]
    }
   ],
   "source": [
    "#This will validate our initial observation of the amount of unique records as well as attributes/column\n",
    "print('Data shape:')\n",
    "print(df.shape)\n",
    "print(df.info())"
   ]
  },
  {
   "cell_type": "markdown",
   "metadata": {},
   "source": [
    "## 2.3 Verify Data Quality <a class=\"anchor\" id=\"Verifydataquality\"></a>\n"
   ]
  },
  {
   "cell_type": "markdown",
   "metadata": {},
   "source": [
    "### 2.3.1. Missing Data <a class=\"anchor\" id=\"MissingData\"></a>\n",
    "The data is extremly complete, without any missing values. As such, no further cleaning needs to be done here."
   ]
  },
  {
   "cell_type": "code",
   "execution_count": 121,
   "metadata": {},
   "outputs": [
    {
     "name": "stdout",
     "output_type": "stream",
     "text": [
      "\n",
      "The selections has 12 columns.\n",
      "There are 0 columns that have missing values.\n",
      "Empty DataFrame\n",
      "Columns: [Missing Values, % of Total Values]\n",
      "Index: []\n"
     ]
    }
   ],
   "source": [
    "def missing_values_table(df):\n",
    "        mis_val = df.isnull().sum()\n",
    "        mis_val_percent = 100 * df.isnull().sum() / len(df)\n",
    "        mis_val_table = pd.concat([mis_val, mis_val_percent], axis=1)\n",
    "        mis_val_table_ren_columns = mis_val_table.rename(\n",
    "        columns = {0 : 'Missing Values', 1 : '% of Total Values'})\n",
    "        mis_val_table_ren_columns = mis_val_table_ren_columns[\n",
    "            mis_val_table_ren_columns.iloc[:,1] != 0].sort_values(\n",
    "        '% of Total Values', ascending=False).round(1)\n",
    "        print (\"\\nThe selections has \" + str(df.shape[1]) + \" columns.\\n\"      \n",
    "            \"There are \" + str(mis_val_table_ren_columns.shape[0]) +\n",
    "              \" columns that have missing values.\")\n",
    "        return mis_val_table_ren_columns\n",
    "    \n",
    "print(missing_values_table(df))"
   ]
  },
  {
   "cell_type": "code",
   "execution_count": 122,
   "metadata": {
    "scrolled": false
   },
   "outputs": [
    {
     "name": "stdout",
     "output_type": "stream",
     "text": [
      "\n",
      "The selections has 12 columns.\n",
      "There are 0 columns that have missing values.\n",
      "There are 0 columns missing more than half the data.\n"
     ]
    }
   ],
   "source": [
    "# Get the columns with > 50% missing\n",
    "missing_train = missing_values_table(df);\n",
    "miss_col_train = list(missing_train[missing_train['% of Total Values'] > 50].index)\n",
    "print('There are %d columns missing more than half the data.' % len(miss_col_train))"
   ]
  },
  {
   "cell_type": "markdown",
   "metadata": {},
   "source": [
    "### 2.3.2. Outliers <a class=\"anchor\" id=\"Outliers\"></a>\n",
    "To address outliers, we will look at the fields using a standard box-and-whisker plot, observing visually those data points which may need to be removed."
   ]
  },
  {
   "cell_type": "code",
   "execution_count": 123,
   "metadata": {
    "scrolled": false
   },
   "outputs": [
    {
     "data": {
      "image/png": "[encoded data removed]",
      "text/plain": [
       "<Figure size 432x288 with 1 Axes>"
      ]
     },
     "metadata": {
      "needs_background": "light"
     },
     "output_type": "display_data"
    },
    {
     "data": {
      "image/png": "[encoded data removed]",
      "text/plain": [
       "<Figure size 432x288 with 1 Axes>"
      ]
     },
     "metadata": {
      "needs_background": "light"
     },
     "output_type": "display_data"
    },
    {
     "data": {
      "image/png": "[encoded data removed]",
      "text/plain": [
       "<Figure size 432x288 with 1 Axes>"
      ]
     },
     "metadata": {
      "needs_background": "light"
     },
     "output_type": "display_data"
    },
    {
     "data": {
      "image/png": "[encoded data removed]",
      "text/plain": [
       "<Figure size 432x288 with 1 Axes>"
      ]
     },
     "metadata": {
      "needs_background": "light"
     },
     "output_type": "display_data"
    },
    {
     "data": {
      "image/png": "[encoded data removed]",
      "text/plain": [
       "<Figure size 432x288 with 1 Axes>"
      ]
     },
     "metadata": {
      "needs_background": "light"
     },
     "output_type": "display_data"
    },
    {
     "data": {
      "image/png": "[encoded data removed]",
      "text/plain": [
       "<Figure size 432x288 with 1 Axes>"
      ]
     },
     "metadata": {
      "needs_background": "light"
     },
     "output_type": "display_data"
    },
    {
     "data": {
      "image/png": "[encoded data removed]",
      "text/plain": [
       "<Figure size 432x288 with 1 Axes>"
      ]
     },
     "metadata": {
      "needs_background": "light"
     },
     "output_type": "display_data"
    },
    {
     "data": {
      "image/png": "[encoded data removed]",
      "text/plain": [
       "<Figure size 432x288 with 1 Axes>"
      ]
     },
     "metadata": {
      "needs_background": "light"
     },
     "output_type": "display_data"
    },
    {
     "data": {
      "image/png": "[encoded data removed]",
      "text/plain": [
       "<Figure size 432x288 with 1 Axes>"
      ]
     },
     "metadata": {
      "needs_background": "light"
     },
     "output_type": "display_data"
    },
    {
     "data": {
      "image/png": "[encoded data removed]",
      "text/plain": [
       "<Figure size 432x288 with 1 Axes>"
      ]
     },
     "metadata": {
      "needs_background": "light"
     },
     "output_type": "display_data"
    },
    {
     "data": {
      "image/png": "[encoded data removed]",
      "text/plain": [
       "<Figure size 432x288 with 1 Axes>"
      ]
     },
     "metadata": {
      "needs_background": "light"
     },
     "output_type": "display_data"
    },
    {
     "data": {
      "image/png": "[encoded data removed]",
      "text/plain": [
       "<Figure size 432x288 with 1 Axes>"
      ]
     },
     "metadata": {
      "needs_background": "light"
     },
     "output_type": "display_data"
    }
   ],
   "source": [
    "for col in df:\n",
    "    sns.boxplot(x=df[col])\n",
    "    plt.show()"
   ]
  },
  {
   "cell_type": "markdown",
   "metadata": {},
   "source": [
    "While see what could be considered outliers, note the relative scales for each graph. None of the data points are completely out of line (as in an order of magnitude off), and we feel confident in leaving the dataset untouched in this regard."
   ]
  },
  {
   "cell_type": "markdown",
   "metadata": {},
   "source": [
    "## 2.4 Initial Data Exploration  <a class=\"anchor\" id=\"Exploredata\"></a>\n",
    "For a quick visual look at our key attribute of quality, consider a simple histogram. It is immediately clear that the vast majority of wines are in the right in the middle. We see few wines that are on the edges as very high quality or very poor quality."
   ]
  },
  {
   "cell_type": "markdown",
   "metadata": {},
   "source": [
    "### 2.4.1 Distributions  <a class=\"anchor\" id=\"Distributions\"></a>"
   ]
  },
  {
   "cell_type": "code",
   "execution_count": 124,
   "metadata": {},
   "outputs": [
    {
     "data": {
      "image/png": "[encoded data removed]",
      "text/plain": [
       "<Figure size 432x288 with 1 Axes>"
      ]
     },
     "metadata": {},
     "output_type": "display_data"
    }
   ],
   "source": [
    "# Histogram\n",
    "def hist_chart(df, col):\n",
    "        plt.style.use('fivethirtyeight')\n",
    "        plt.hist(df[col].dropna(), edgecolor = 'k');\n",
    "        plt.xlabel(col); plt.ylabel('Number of Entries'); \n",
    "        plt.title('Distribution of '+col);\n",
    "        plt.show()\n",
    "\n",
    "        \n",
    "hist_chart(df, 'quality')"
   ]
  },
  {
   "cell_type": "markdown",
   "metadata": {},
   "source": [
    "### 2.4.2 Correlations  <a class=\"anchor\" id=\"Correlations\"></a>\n",
    "To get a general sense of corrleations, a heatmap across all vairables as compared to all others was generated. Clearly, there are some moderatey correlated attributes, but to the point of quality, a more focused list of correlations was generated. Here, we can see the more relevant relationships and begin to map out where the focus of the analysis will be directed. "
   ]
  },
  {
   "cell_type": "code",
   "execution_count": 125,
   "metadata": {},
   "outputs": [
    {
     "data": {
      "text/plain": [
       "<Figure size 1440x1440 with 0 Axes>"
      ]
     },
     "metadata": {},
     "output_type": "display_data"
    },
    {
     "data": {
      "image/png": "[encoded data removed]",
      "text/plain": [
       "<Figure size 432x288 with 2 Axes>"
      ]
     },
     "metadata": {},
     "output_type": "display_data"
    }
   ],
   "source": [
    "fig=plt.figure(figsize=(18, 18), dpi= 80, facecolor='w', edgecolor='k')\n",
    "corr = df.corr()\n",
    "fig = plt.figure()\n",
    "ax = fig.add_subplot()\n",
    "cax = ax.matshow(corr,cmap='coolwarm')\n",
    "fig.colorbar(cax)\n",
    "ticks = np.arange(0, len(df.columns),1)\n",
    "ax.set_xticks(ticks)\n",
    "plt.xticks(rotation=90)\n",
    "ax.set_yticks(ticks)\n",
    "ax.set_xticklabels(df.columns)\n",
    "ax.set_yticklabels(df.columns)\n",
    "plt.show()\n"
   ]
  },
  {
   "cell_type": "code",
   "execution_count": 126,
   "metadata": {},
   "outputs": [
    {
     "name": "stdout",
     "output_type": "stream",
     "text": [
      "volatile acidity       -0.390558\n",
      "total sulfur dioxide   -0.185100\n",
      "density                -0.174919\n",
      "chlorides              -0.128907\n",
      "pH                     -0.057731\n",
      "free sulfur dioxide    -0.050656\n",
      "residual sugar          0.013732\n",
      "citric acid             0.226373\n",
      "sulphates               0.251397\n",
      "alcohol                 0.476166\n",
      "quality                 1.000000\n",
      "Name: quality, dtype: float64\n"
     ]
    }
   ],
   "source": [
    "corr_data = df[df.columns[1:]].corr()['quality'][:]\n",
    "sorted_corr_data = corr_data.sort_values(kind=\"quicksort\")\n",
    "print(sorted_corr_data)"
   ]
  },
  {
   "cell_type": "markdown",
   "metadata": {},
   "source": [
    "# 3. Data Preperation <a class=\"anchor\" id=\"Datapreperation\"></a>"
   ]
  },
  {
   "cell_type": "markdown",
   "metadata": {},
   "source": [
    "## 3.1 Data Selection <a class=\"anchor\" id=\"Selectyourdata\"></a>\n",
    "We will be using 100% of the available data, and splitting it into train/test sets in section 4."
   ]
  },
  {
   "cell_type": "markdown",
   "metadata": {},
   "source": [
    "## 3.2 Clean The Data <a class=\"anchor\" id=\"Cleansethedata\"></a>"
   ]
  },
  {
   "cell_type": "markdown",
   "metadata": {},
   "source": [
    "### 3.2.1 Altering Data Types and Dealing with Zeros <a class=\"anchor\" id=\"AlteringDatatypes\"></a>\n",
    "There is no need to alter any data types, nor deal with excessive zeros."
   ]
  },
  {
   "cell_type": "markdown",
   "metadata": {},
   "source": [
    "### 3.2.2 Dealing With Duplicates <a class=\"anchor\" id=\"DealingDuplicates\"></a>"
   ]
  },
  {
   "cell_type": "code",
   "execution_count": 127,
   "metadata": {},
   "outputs": [
    {
     "name": "stdout",
     "output_type": "stream",
     "text": [
      "Original shape of data\n",
      "(1599, 12)\n",
      "Shape after removing duplicates\n",
      "(1599, 12)\n"
     ]
    }
   ],
   "source": [
    "print('Original shape of data')\n",
    "print(df.shape)\n",
    "print('Shape after removing duplicates')\n",
    "df.drop_duplicates(keep='first')\n",
    "print(df.shape)"
   ]
  },
  {
   "cell_type": "markdown",
   "metadata": {},
   "source": [
    "Note that the shape remains the same after trying to remove duplicates. Thus no duplicate records exist."
   ]
  },
  {
   "cell_type": "markdown",
   "metadata": {},
   "source": [
    "## 3.2.3 Missing Values\n",
    "No missing values to address."
   ]
  },
  {
   "cell_type": "code",
   "execution_count": 128,
   "metadata": {},
   "outputs": [
    {
     "name": "stdout",
     "output_type": "stream",
     "text": [
      "(1599, 12)\n",
      "(1599, 12)\n"
     ]
    }
   ],
   "source": [
    "print(df.shape)\n",
    "df.dropna(inplace=True)\n",
    "print(df.shape)"
   ]
  },
  {
   "cell_type": "markdown",
   "metadata": {},
   "source": [
    "# 4. Model Training/Testing<a class=\"anchor\" id=\"Modeltrain\"></a>"
   ]
  },
  {
   "cell_type": "markdown",
   "metadata": {},
   "source": [
    "## 4.1 Multi-Class Testing"
   ]
  },
  {
   "cell_type": "code",
   "execution_count": 129,
   "metadata": {},
   "outputs": [
    {
     "name": "stdout",
     "output_type": "stream",
     "text": [
      "Columns to check:  Index(['fixed acidity', 'volatile acidity', 'citric acid', 'residual sugar',\n",
      "       'chlorides', 'free sulfur dioxide', 'total sulfur dioxide', 'density',\n",
      "       'pH', 'sulphates', 'alcohol'],\n",
      "      dtype='object')\n"
     ]
    }
   ],
   "source": [
    "\"\"\"\n",
    "'binary':\n",
    "Only report results for the class specified by pos_label. This is applicable only if targets (y_{true,pred}) are binary.\n",
    "\n",
    "'micro':\n",
    "Calculate metrics globally by counting the total true positives, false negatives and false positives.\n",
    "\n",
    "'macro':\n",
    "Calculate metrics for each label, and find their unweighted mean. This does not take label imbalance into account.\n",
    "\n",
    "'weighted':\n",
    "Calculate metrics for each label, and find their average weighted by support (the number of true instances for each label). This alters ‘macro’ to account for label imbalance; it can result in an F-score that is not between precision and recall.\n",
    "\n",
    "'samples':\n",
    "Calculate metrics for each instance, and find their average (only meaningful for multilabel classification where this differs from accuracy_score).\n",
    "\"\"\"\n",
    "\n",
    "metric_eval = 'macro'\n",
    "\n",
    "num_vars = df.select_dtypes(['float64']).columns\n",
    "print('Columns to check: ', num_vars)\n",
    "x = df[num_vars]\n",
    "y = df.quality\n",
    "\n",
    "x_train, x_test, y_train, y_test = train_test_split(x, y, test_size=0.3, random_state=16)\n",
    "\n",
    "scaler = StandardScaler().fit(x_train)\n",
    "x_train = scaler.transform(x_train)\n",
    "x_test = scaler.transform(x_test)\n",
    "\n",
    "def evaluate(model, graph_flag):\n",
    "    out_mod = model.fit(x_train, y_train)\n",
    "    y_pred = model.predict(x_test)\n",
    "    cm = confusion_matrix(y_test, y_pred)\n",
    "    print (\"Accuracy:\", accuracy_score(y_test, y_pred)) \n",
    "    print(\"Precision:\",metrics.precision_score(y_test, y_pred, average=metric_eval))\n",
    "    print(\"Recall:\",metrics.recall_score(y_test, y_pred, average=metric_eval))\n",
    "    print(\"F1:\", metrics.f1_score(y_test,y_pred, average=metric_eval))\n",
    "    if graph_flag == 1:\n",
    "        print (\"Confusion Matrix: \\n\", cm)\n",
    "        sns.heatmap(cm)\n",
    "    return out_mod"
   ]
  },
  {
   "cell_type": "code",
   "execution_count": 130,
   "metadata": {},
   "outputs": [
    {
     "name": "stdout",
     "output_type": "stream",
     "text": [
      "Accuracy: 0.5208333333333334\n",
      "Precision: 0.3296248216351309\n",
      "Recall: 0.3655895691609978\n",
      "F1: 0.34287496129601386\n"
     ]
    }
   ],
   "source": [
    "gnb = GaussianNB()\n",
    "gnb_train = evaluate(gnb, 0)"
   ]
  },
  {
   "cell_type": "code",
   "execution_count": 131,
   "metadata": {},
   "outputs": [
    {
     "name": "stdout",
     "output_type": "stream",
     "text": [
      "Accuracy: 0.5833333333333334\n",
      "Precision: 0.3490762213150376\n",
      "Recall: 0.39342403628117917\n",
      "F1: 0.3618843577905473\n"
     ]
    },
    {
     "data": {
      "text/plain": [
       "DecisionTreeClassifier()"
      ]
     },
     "execution_count": 131,
     "metadata": {},
     "output_type": "execute_result"
    }
   ],
   "source": [
    "dtc = DecisionTreeClassifier()\n",
    "evaluate(dtc, 0)"
   ]
  },
  {
   "cell_type": "code",
   "execution_count": 132,
   "metadata": {},
   "outputs": [],
   "source": [
    "#xgb = XGBClassifier()\n",
    "#xgb_train = evaluate(xgb, 0)"
   ]
  },
  {
   "cell_type": "code",
   "execution_count": 133,
   "metadata": {},
   "outputs": [
    {
     "name": "stdout",
     "output_type": "stream",
     "text": [
      "Accuracy: 0.6208333333333333\n",
      "Precision: 0.3443195448881436\n",
      "Recall: 0.31320861678004536\n",
      "F1: 0.3162088354333387\n"
     ]
    }
   ],
   "source": [
    "rfc = RandomForestClassifier(n_estimators=10)\n",
    "rfc_train = evaluate(rfc, 0)"
   ]
  },
  {
   "cell_type": "markdown",
   "metadata": {},
   "source": [
    "## 4.2 Binary Classification\n",
    "Classifying wines as either \"good\" or \"bad\", with a rating over greater than or equal to 6 indicating good."
   ]
  },
  {
   "cell_type": "code",
   "execution_count": 134,
   "metadata": {},
   "outputs": [
    {
     "data": {
      "image/png": "[encoded data removed]",
      "text/plain": [
       "<Figure size 432x288 with 1 Axes>"
      ]
     },
     "metadata": {},
     "output_type": "display_data"
    }
   ],
   "source": [
    "df2 = df.copy()\n",
    "df2['qualitybinary'] = np.where(df2['quality']>=6,1,0)\n",
    "hist_chart(df2, 'qualitybinary')"
   ]
  },
  {
   "cell_type": "code",
   "execution_count": 135,
   "metadata": {},
   "outputs": [
    {
     "name": "stdout",
     "output_type": "stream",
     "text": [
      "volatile acidity       -0.321441\n",
      "total sulfur dioxide   -0.231963\n",
      "density                -0.159110\n",
      "chlorides              -0.109494\n",
      "free sulfur dioxide    -0.061757\n",
      "pH                     -0.003264\n",
      "residual sugar         -0.002160\n",
      "citric acid             0.159129\n",
      "sulphates               0.218072\n",
      "alcohol                 0.434751\n",
      "quality                 0.848279\n",
      "qualitybinary           1.000000\n",
      "Name: qualitybinary, dtype: float64\n"
     ]
    }
   ],
   "source": [
    "corr_data2 = df2[df2.columns[1:]].corr()['qualitybinary'][:]\n",
    "sorted_corr_data2 = corr_data2.sort_values(kind=\"quicksort\")\n",
    "print(sorted_corr_data2)"
   ]
  },
  {
   "cell_type": "code",
   "execution_count": 136,
   "metadata": {},
   "outputs": [
    {
     "name": "stdout",
     "output_type": "stream",
     "text": [
      "Columns to check:  Index(['fixed acidity', 'volatile acidity', 'citric acid', 'residual sugar',\n",
      "       'chlorides', 'free sulfur dioxide', 'total sulfur dioxide', 'density',\n",
      "       'pH', 'sulphates', 'alcohol'],\n",
      "      dtype='object')\n"
     ]
    }
   ],
   "source": [
    "num_vars_bin = df2.select_dtypes(['float64']).columns\n",
    "print('Columns to check: ', num_vars_bin)\n",
    "x_bin = df2[num_vars_bin]\n",
    "y_bin = df2.qualitybinary\n",
    "\n",
    "x_train_bin, x_test_bin, y_train_bin, y_test_bin = train_test_split(x_bin, y_bin, test_size=0.3, random_state=16)\n",
    "\n",
    "scaler_bin = StandardScaler().fit(x_train_bin)\n",
    "x_train_bin = scaler.transform(x_train_bin)\n",
    "x_test_bin = scaler.transform(x_test_bin)\n",
    "\n",
    "def evaluate_bin(model, graph_flag):\n",
    "    out_bin = model.fit(x_train_bin, y_train_bin)\n",
    "    y_pred_bin = model.predict(x_test_bin)\n",
    "    cm_bin = confusion_matrix(y_test_bin, y_pred_bin)\n",
    "    print (\"Accuracy:\", accuracy_score(y_test_bin, y_pred_bin)) \n",
    "    print(\"Precision:\",metrics.precision_score(y_test_bin, y_pred_bin))\n",
    "    print(\"Recall:\",metrics.recall_score(y_test_bin, y_pred_bin))\n",
    "    print(\"F1:\", metrics.f1_score(y_test_bin,y_pred_bin))\n",
    "    if graph_flag == 1:\n",
    "        print (\"Confusion Matrix: \\n\", cm_bin)\n",
    "        sns.heatmap(cm_bin)\n",
    "    return out_bin"
   ]
  },
  {
   "cell_type": "code",
   "execution_count": 137,
   "metadata": {},
   "outputs": [
    {
     "name": "stdout",
     "output_type": "stream",
     "text": [
      "Accuracy: 0.7041666666666667\n",
      "Precision: 0.7142857142857143\n",
      "Recall: 0.7421875\n",
      "F1: 0.7279693486590038\n"
     ]
    }
   ],
   "source": [
    "gnb_bin = GaussianNB()\n",
    "gnb_train_bin = evaluate_bin(gnb_bin, 0)"
   ]
  },
  {
   "cell_type": "code",
   "execution_count": 138,
   "metadata": {},
   "outputs": [
    {
     "name": "stdout",
     "output_type": "stream",
     "text": [
      "Accuracy: 0.7229166666666667\n",
      "Precision: 0.7269372693726938\n",
      "Recall: 0.76953125\n",
      "F1: 0.747628083491461\n"
     ]
    }
   ],
   "source": [
    "dtc_bin = DecisionTreeClassifier()\n",
    "dtc_train_bin = evaluate_bin(dtc_bin, 0)"
   ]
  },
  {
   "cell_type": "code",
   "execution_count": 139,
   "metadata": {},
   "outputs": [],
   "source": [
    "#xgb_bin = XGBClassifier()\n",
    "#xgb_train_bin = evaluate_bin(xgb_bin, 0)"
   ]
  },
  {
   "cell_type": "code",
   "execution_count": 140,
   "metadata": {},
   "outputs": [
    {
     "name": "stdout",
     "output_type": "stream",
     "text": [
      "Accuracy: 0.7479166666666667\n",
      "Precision: 0.7824267782426778\n",
      "Recall: 0.73046875\n",
      "F1: 0.7555555555555554\n"
     ]
    }
   ],
   "source": [
    "rfc_bin = RandomForestClassifier(n_estimators=10)\n",
    "rfc_train_bin = evaluate_bin(rfc_bin, 0)"
   ]
  },
  {
   "cell_type": "code",
   "execution_count": 141,
   "metadata": {},
   "outputs": [
    {
     "name": "stdout",
     "output_type": "stream",
     "text": [
      "Best Criterion: gini\n",
      "Best max_depth: 6\n",
      "Best Number Of Components: 10\n",
      "\n",
      "DecisionTreeClassifier(max_depth=6)\n"
     ]
    }
   ],
   "source": [
    "#Set up the grid search for a decision tree approach\n",
    "sc = StandardScaler()\n",
    "pca = decomposition.PCA()\n",
    "decisiontree = tree.DecisionTreeClassifier()\n",
    "\n",
    "# Create a pipeline for the tree\n",
    "pipe = Pipeline(steps=[('sc', sc),\n",
    "                       ('pca', pca),\n",
    "                       ('decisiontree', decisiontree)])\n",
    "\n",
    "#Set the parameters to test\n",
    "n_components = list(range(1,x_bin.shape[1]+1,1))\n",
    "criterion = ['gini', 'entropy']\n",
    "max_depth = [4,6,8,12]\n",
    "parameters = dict(pca__n_components=n_components,\n",
    "                  decisiontree__criterion=criterion,\n",
    "                  decisiontree__max_depth=max_depth)\n",
    "\n",
    "#Check best parameters\n",
    "clf_G = GridSearchCV(pipe, parameters)\n",
    "clf_G.fit(x_bin, y_bin)\n",
    "\n",
    "#View The Best Parameters\n",
    "print('Best Criterion:', clf_G.best_estimator_.get_params()['decisiontree__criterion'])\n",
    "print('Best max_depth:', clf_G.best_estimator_.get_params()['decisiontree__max_depth'])\n",
    "print('Best Number Of Components:', clf_G.best_estimator_.get_params()['pca__n_components'])\n",
    "print(); print(clf_G.best_estimator_.get_params()['decisiontree'])\n",
    "\n",
    "#Use Cross Validation To Evaluate Model\n",
    "#CV_Result = cross_val_score(clf_G, x_bin, y_bin, cv=4, n_jobs=-1)\n",
    "#print(); print(CV_Result)\n",
    "#print(); print(CV_Result.mean())\n",
    "#print(); print(CV_Result.std())"
   ]
  },
  {
   "cell_type": "code",
   "execution_count": 142,
   "metadata": {},
   "outputs": [
    {
     "name": "stdout",
     "output_type": "stream",
     "text": [
      "Accuracy: 0.7104166666666667\n",
      "Precision: 0.7294117647058823\n",
      "Recall: 0.7265625\n",
      "F1: 0.7279843444227004\n"
     ]
    }
   ],
   "source": [
    "#Create a new algorithm based on optimized grid search parameters\n",
    "clf2 = DecisionTreeClassifier(criterion=\"gini\", max_depth=6)\n",
    "clf2_train_bin = evaluate_bin(clf2, 0)"
   ]
  },
  {
   "cell_type": "markdown",
   "metadata": {},
   "source": [
    "## 4.3 Regression\n",
    "\n",
    "Predicting the quality score of the wine from 0 to 10, the number can be fractional.  We also round this to the nearest whole number to get an accuracy score for the model."
   ]
  },
  {
   "cell_type": "code",
   "execution_count": 165,
   "metadata": {},
   "outputs": [
    {
     "name": "stdout",
     "output_type": "stream",
     "text": [
      "Baseline Errors\n",
      "Root Mean Squared Error:  0.8073168769639513\n",
      "Mean Absolute Error:  0.6831779242889846\n"
     ]
    }
   ],
   "source": [
    "x = df[num_vars]\n",
    "y = df.quality\n",
    "\n",
    "avval = [np.mean(y) for i in y]\n",
    "print('Baseline Errors')\n",
    "print('Root Mean Squared Error: ',  np.sqrt(mean_squared_error(y, avval)))\n",
    "print('Mean Absolute Error: ', mean_absolute_error(y, avval))"
   ]
  },
  {
   "cell_type": "code",
   "execution_count": 148,
   "metadata": {},
   "outputs": [
    {
     "name": "stdout",
     "output_type": "stream",
     "text": [
      "Linear Regression  using  Index(['fixed acidity', 'volatile acidity', 'citric acid', 'residual sugar',\n",
      "       'chlorides', 'free sulfur dioxide', 'total sulfur dioxide', 'density',\n",
      "       'pH', 'sulphates', 'alcohol'],\n",
      "      dtype='object')\n",
      "Root Mean Squared Error:  0.6812702851892525\n",
      "Mean Absolute Error:  0.5206492724535853\n",
      "Accuracy:  0.5916666666666667\n",
      "\n",
      "Linear Regression  using  Index(['volatile acidity', 'citric acid', 'sulphates', 'alcohol'], dtype='object')\n",
      "Root Mean Squared Error:  0.6798464701733354\n",
      "Mean Absolute Error:  0.531514382101076\n",
      "Accuracy:  0.5625\n",
      "\n",
      "Linear Regression  using  Index(['volatile acidity', 'alcohol'], dtype='object')\n",
      "Root Mean Squared Error:  0.6918496027881663\n",
      "Mean Absolute Error:  0.5406253675128926\n",
      "Accuracy:  0.5604166666666667\n",
      "\n"
     ]
    }
   ],
   "source": [
    "def evaluate_regression(mdl,mdl_name,x,y,cols):\n",
    "    x_train, x_test, y_train, y_test = train_test_split(x[cols], y, test_size=0.3, random_state=16)\n",
    "\n",
    "    scaler = StandardScaler().fit(x_train)\n",
    "    x_train = scaler.transform(x_train)\n",
    "    x_test = scaler.transform(x_test)\n",
    "\n",
    "    \n",
    "    mdl.fit(x_train,y_train)\n",
    "    predicted_data = mdl.predict(x_test)\n",
    "    print(mdl_name, ' using ', cols)\n",
    "    print('Root Mean Squared Error: ',  np.sqrt(mean_squared_error(y_test, predicted_data)))\n",
    "    print('Mean Absolute Error: ', mean_absolute_error(y_test, predicted_data))\n",
    "    print('Accuracy: ', accuracy_score(y_test, predicted_data.round()))\n",
    "    print()\n",
    "\n",
    "lg = LinearRegression()\n",
    "lg_name = 'Linear Regression'    \n",
    "    \n",
    "# Linear regression using all columns\n",
    "evaluate_regression(lg,lg_name,x,y,num_vars)\n",
    "\n",
    "# Linear regression using higher correlation columns\n",
    "t = sorted_corr_data[num_vars]\n",
    "corr_cols = t[abs(t) > .2].index\n",
    "evaluate_regression(lg,lg_name,x,y,corr_cols)\n",
    "\n",
    "# Linear regression using only two most correlated columns\n",
    "t = sorted_corr_data[num_vars]\n",
    "corr_cols = t[abs(t) > .3].index\n",
    "evaluate_regression(lg,lg_name,x,y,corr_cols)"
   ]
  },
  {
   "cell_type": "code",
   "execution_count": 153,
   "metadata": {},
   "outputs": [
    {
     "name": "stdout",
     "output_type": "stream",
     "text": [
      "Decision Tree Regressor  using  Index(['fixed acidity', 'volatile acidity', 'citric acid', 'residual sugar',\n",
      "       'chlorides', 'free sulfur dioxide', 'total sulfur dioxide', 'density',\n",
      "       'pH', 'sulphates', 'alcohol'],\n",
      "      dtype='object')\n",
      "Root Mean Squared Error:  0.8403868156985805\n",
      "Mean Absolute Error:  0.51875\n",
      "Accuracy:  0.5666666666666667\n",
      "\n",
      "Decision Tree Regressor  using  Index(['volatile acidity', 'citric acid', 'sulphates', 'alcohol'], dtype='object')\n",
      "Root Mean Squared Error:  0.8366600265340756\n",
      "Mean Absolute Error:  0.5083333333333333\n",
      "Accuracy:  0.575\n",
      "\n",
      "Decision Tree Regressor  using  Index(['volatile acidity', 'alcohol'], dtype='object')\n",
      "Root Mean Squared Error:  0.8369838410109115\n",
      "Mean Absolute Error:  0.5350396825396826\n",
      "Accuracy:  0.5479166666666667\n",
      "\n"
     ]
    }
   ],
   "source": [
    "dtr = DecisionTreeRegressor()\n",
    "dtr_name = 'Decision Tree Regressor'\n",
    "\n",
    "# Linear regression using all columns\n",
    "evaluate_regression(dtr,dtr_name,x,y,num_vars)\n",
    "\n",
    "# Linear regression using higher correlation columns\n",
    "t = sorted_corr_data[num_vars]\n",
    "corr_cols = t[abs(t) > .2].index\n",
    "evaluate_regression(dtr,dtr_name,x,y,corr_cols)\n",
    "\n",
    "# Linear regression using only two most correlated columns\n",
    "t = sorted_corr_data[num_vars]\n",
    "corr_cols = t[abs(t) > .3].index\n",
    "evaluate_regression(dtr,dtr_name,x,y,corr_cols)"
   ]
  },
  {
   "cell_type": "code",
   "execution_count": 152,
   "metadata": {},
   "outputs": [
    {
     "name": "stdout",
     "output_type": "stream",
     "text": [
      "Random Forest Regressor  using  Index(['fixed acidity', 'volatile acidity', 'citric acid', 'residual sugar',\n",
      "       'chlorides', 'free sulfur dioxide', 'total sulfur dioxide', 'density',\n",
      "       'pH', 'sulphates', 'alcohol'],\n",
      "      dtype='object')\n",
      "Root Mean Squared Error:  0.6272567589645142\n",
      "Mean Absolute Error:  0.4413541666666667\n",
      "Accuracy:  0.6458333333333334\n",
      "\n",
      "Random Forest Regressor  using  Index(['volatile acidity', 'citric acid', 'sulphates', 'alcohol'], dtype='object')\n",
      "Root Mean Squared Error:  0.6388988133891\n",
      "Mean Absolute Error:  0.4666673611111111\n",
      "Accuracy:  0.6333333333333333\n",
      "\n",
      "Random Forest Regressor  using  Index(['volatile acidity', 'alcohol'], dtype='object')\n",
      "Root Mean Squared Error:  0.6856430130445913\n",
      "Mean Absolute Error:  0.5127345120157619\n",
      "Accuracy:  0.5770833333333333\n",
      "\n"
     ]
    }
   ],
   "source": [
    "rfr = RandomForestRegressor()\n",
    "rfr_name = 'Random Forest Regressor'\n",
    "\n",
    "# Linear regression using all columns\n",
    "evaluate_regression(rfr,rfr_name,x,y,num_vars)\n",
    "\n",
    "# Linear regression using higher correlation columns\n",
    "t = sorted_corr_data[num_vars]\n",
    "corr_cols = t[abs(t) > .2].index\n",
    "evaluate_regression(rfr,rfr_name,x,y,corr_cols)\n",
    "\n",
    "# Linear regression using only two most correlated columns\n",
    "t = sorted_corr_data[num_vars]\n",
    "corr_cols = t[abs(t) > .3].index\n",
    "evaluate_regression(rfr,rfr_name,x,y,corr_cols)"
   ]
  },
  {
   "cell_type": "code",
   "execution_count": 187,
   "metadata": {},
   "outputs": [
    {
     "name": "stdout",
     "output_type": "stream",
     "text": [
      "Best n_estimators: 190\n",
      "Best max_depth: 20\n",
      "Best min_samples_split: 2\n",
      "Best max_features: sqrt\n"
     ]
    }
   ],
   "source": [
    "param_grid = {'n_estimators': [n for n in range(10,200,10)],\n",
    "             'max_features': ['auto','sqrt'],\n",
    "             'min_samples_split': [2,5,10,20],\n",
    "             'max_depth': [5,10,20,40,80]}\n",
    "\n",
    "#Check best parameters\n",
    "clf_rfr = GridSearchCV(rfr, param_grid)\n",
    "\n",
    "x = df[num_vars]\n",
    "y = df.quality\n",
    "\n",
    "x_train, x_test, y_train, y_test = train_test_split(x, y, test_size=0.3, random_state=16)\n",
    "\n",
    "scaler = StandardScaler().fit(x_train)\n",
    "x_train = scaler.transform(x_train)\n",
    "x_test = scaler.transform(x_test)\n",
    "\n",
    "\n",
    "clf_rfr.fit(x_train, y_train)\n",
    "\n",
    "#View The Best Parameters\n",
    "print('Best n_estimators:', clf_rfr.best_estimator_.get_params()['n_estimators'])\n",
    "print('Best max_depth:', clf_rfr.best_estimator_.get_params()['max_depth'])\n",
    "print('Best min_samples_split:', clf_rfr.best_estimator_.get_params()['min_samples_split'])\n",
    "print('Best max_features:', clf_rfr.best_estimator_.get_params()['max_features'])\n",
    "\n",
    "rfr_best = clf_rfr.best_estimator_\n"
   ]
  },
  {
   "cell_type": "code",
   "execution_count": 188,
   "metadata": {},
   "outputs": [
    {
     "name": "stdout",
     "output_type": "stream",
     "text": [
      "Root Mean Squared Error:  0.6169848878167059\n",
      "Mean Absolute Error:  0.44341084225458266\n",
      "Accuracy:  0.6458333333333334\n",
      "              precision    recall  f1-score   support\n",
      "\n",
      "           3       0.00      0.00      0.00         3\n",
      "           4       0.40      0.10      0.15        21\n",
      "           5       0.64      0.58      0.61       200\n",
      "           6       0.51      0.73      0.60       196\n",
      "           7       0.62      0.09      0.16        56\n",
      "           8       0.00      0.00      0.00         4\n",
      "\n",
      "    accuracy                           0.56       480\n",
      "   macro avg       0.36      0.25      0.25       480\n",
      "weighted avg       0.56      0.56      0.52       480\n",
      "\n"
     ]
    }
   ],
   "source": [
    "predicted_data = rfr_best.predict(x_test)\n",
    "print('Root Mean Squared Error: ',  np.sqrt(mean_squared_error(y_test, predicted_data)))\n",
    "print('Mean Absolute Error: ', mean_absolute_error(y_test, predicted_data))\n",
    "print('Accuracy: ', accuracy_score(y_test, predicted_data.round()))\n",
    "print(classification_report(y_test, y_pred.round()))"
   ]
  },
  {
   "cell_type": "markdown",
   "metadata": {},
   "source": [
    "In the next section we look at if we can evaluate the quality of wine with attributes that can be evaluated outside of a lab environment.  Percent Alcohol is required to be included on all alcoholic beverages so we will use that, and pH testing kits can be purchased and administered at low cost so we will also use that."
   ]
  },
  {
   "cell_type": "code",
   "execution_count": 155,
   "metadata": {},
   "outputs": [
    {
     "name": "stdout",
     "output_type": "stream",
     "text": [
      "Linear Regression  using  ['alcohol', 'pH']\n",
      "Root Mean Squared Error:  0.7387776615088736\n",
      "Mean Absolute Error:  0.5818357616666113\n",
      "Accuracy:  0.5583333333333333\n",
      "\n",
      "Random Forest Regressor  using  ['alcohol', 'pH']\n",
      "Root Mean Squared Error:  0.7737749559655775\n",
      "Mean Absolute Error:  0.5786525177368927\n",
      "Accuracy:  0.5333333333333333\n",
      "\n",
      "Decision Tree Regressor  using  ['alcohol', 'pH']\n",
      "Root Mean Squared Error:  0.9342654076074164\n",
      "Mean Absolute Error:  0.6320138888888889\n",
      "Accuracy:  0.4791666666666667\n",
      "\n"
     ]
    }
   ],
   "source": [
    "athome_cols = ['alcohol','pH']\n",
    "evaluate_regression(lg,lg_name,x,y,athome_cols)\n",
    "\n",
    "evaluate_regression(rfr,rfr_name,x,y,athome_cols)\n",
    "\n",
    "evaluate_regression(dtr,dtr_name,x,y,athome_cols)"
   ]
  },
  {
   "cell_type": "code",
   "execution_count": 163,
   "metadata": {},
   "outputs": [
    {
     "name": "stdout",
     "output_type": "stream",
     "text": [
      "Best n_estimators: 40\n",
      "Best max_depth: 5\n",
      "Best min_samples_split: 5\n",
      "Best max_features: None\n"
     ]
    }
   ],
   "source": [
    "param_grid = {'n_estimators': [n for n in range(10,200,10)],\n",
    "             'max_features': [None],\n",
    "             'min_samples_split': [2,5,10,20,30,40],\n",
    "             'max_depth': [5,10,20,40,80,120]}\n",
    "\n",
    "#Check best parameters\n",
    "clf_rfr = GridSearchCV(rfr, param_grid)\n",
    "\n",
    "x = df[athome_cols]\n",
    "y = df.quality\n",
    "\n",
    "x_train, x_test, y_train, y_test = train_test_split(x, y, test_size=0.3, random_state=16)\n",
    "\n",
    "scaler = StandardScaler().fit(x_train)\n",
    "x_train = scaler.transform(x_train)\n",
    "x_test = scaler.transform(x_test)\n",
    "\n",
    "\n",
    "clf_rfr.fit(x_train, y_train)\n",
    "\n",
    "#View The Best Parameters\n",
    "print('Best n_estimators:', clf_rfr.best_estimator_.get_params()['n_estimators'])\n",
    "print('Best max_depth:', clf_rfr.best_estimator_.get_params()['max_depth'])\n",
    "print('Best min_samples_split:', clf_rfr.best_estimator_.get_params()['min_samples_split'])\n",
    "print('Best max_features:', clf_rfr.best_estimator_.get_params()['max_features'])\n",
    "\n",
    "rfr_best = clf_rfr.best_estimator_\n",
    "\n"
   ]
  },
  {
   "cell_type": "code",
   "execution_count": 164,
   "metadata": {},
   "outputs": [
    {
     "name": "stdout",
     "output_type": "stream",
     "text": [
      "Root Mean Squared Error:  0.7277175865544794\n",
      "Mean Absolute Error:  0.5790219895836011\n",
      "Accuracy:  0.55\n"
     ]
    }
   ],
   "source": [
    "predicted_data = rfr_best.predict(x_test)\n",
    "print('Root Mean Squared Error: ',  np.sqrt(mean_squared_error(y_test, predicted_data)))\n",
    "print('Mean Absolute Error: ', mean_absolute_error(y_test, predicted_data))\n",
    "print('Accuracy: ', accuracy_score(y_test, predicted_data.round()))"
   ]
  },
  {
   "cell_type": "code",
   "execution_count": 182,
   "metadata": {},
   "outputs": [
    {
     "name": "stdout",
     "output_type": "stream",
     "text": [
      "----ANN 2 Hidden Layers----\n",
      "Root Mean Squared Error:  0.7277175865544794\n",
      "Mean Absolute Error:  0.5790219895836011\n",
      "Accuracy:  0.55\n",
      "---------------------------------\n"
     ]
    }
   ],
   "source": [
    "def create_ann_2(activation,units):\n",
    "    model = Sequential()\n",
    "    model.add(Dense(units=units, activation=activation,input_shape=(11,)))\n",
    "    model.add(Dense(units=units, activation=activation))\n",
    "    model.add(Dense(1))\n",
    "    model.compile(loss='mean_squared_error', optimizer='adam')\n",
    "    return model\n",
    "\n",
    "\n",
    "x = df[num_vars]\n",
    "y = df.quality\n",
    "\n",
    "x_train, x_test, y_train, y_test = train_test_split(x, y, test_size=0.3, random_state=16)\n",
    "\n",
    "scaler = StandardScaler().fit(x_train)\n",
    "x_train = scaler.transform(x_train)\n",
    "x_test = scaler.transform(x_test)\n",
    "\n",
    "param_grid = {'activation': ['relu','sigmoid','tanh'],\n",
    "             'units': [5,10,15,20]}\n",
    "\n",
    "cv = KFold(n_splits=4, shuffle=True, random_state=16)\n",
    "# ANN 2\n",
    "model_ann2 = KerasRegressor(build_fn=create_ann_2, epochs=16, batch_size=10,verbose=0)\n",
    "grid_ann2 = GridSearchCV(estimator=model_ann2,param_grid=param_grid,cv=cv,n_jobs=-1)\n",
    "grid_ann2.fit(x_train,y_train)\n",
    "\n",
    "ann2_cv = grid_ann2.best_estimator_\n",
    "y_pred = ann2_cv.predict(x_test)\n",
    "\n"
   ]
  },
  {
   "cell_type": "code",
   "execution_count": 186,
   "metadata": {},
   "outputs": [
    {
     "name": "stdout",
     "output_type": "stream",
     "text": [
      "----ANN 2 Hidden Layers----\n",
      "Root Mean Squared Error:  0.6763711703540864\n",
      "Mean Absolute Error:  0.5254024629791577\n",
      "Accuracy:  0.55625\n",
      "              precision    recall  f1-score   support\n",
      "\n",
      "           3       0.00      0.00      0.00         3\n",
      "           4       0.40      0.10      0.15        21\n",
      "           5       0.64      0.58      0.61       200\n",
      "           6       0.51      0.73      0.60       196\n",
      "           7       0.62      0.09      0.16        56\n",
      "           8       0.00      0.00      0.00         4\n",
      "\n",
      "    accuracy                           0.56       480\n",
      "   macro avg       0.36      0.25      0.25       480\n",
      "weighted avg       0.56      0.56      0.52       480\n",
      "\n",
      "---------------------------------\n"
     ]
    }
   ],
   "source": [
    "print('----ANN 2 Hidden Layers----')\n",
    "print('Root Mean Squared Error: ',  np.sqrt(mean_squared_error(y_test, y_pred)))\n",
    "print('Mean Absolute Error: ', mean_absolute_error(y_test, y_pred))\n",
    "print('Accuracy: ', accuracy_score(y_test, y_pred.round()))\n",
    "print(classification_report(y_test, y_pred.round()))\n",
    "print('---------------------------------')\n"
   ]
  },
  {
   "cell_type": "markdown",
   "metadata": {},
   "source": [
    "# 5 Analysis <a class=\"anchor\" id=\"Analysis\"></a>\n"
   ]
  },
  {
   "cell_type": "markdown",
   "metadata": {},
   "source": [
    "## 5.1 Binary Classification\n",
    "\n",
    "In order to evaluate the relative success of our classification algorithms, we chose to focus on accuracy. However, we do note that having high scores in both precision and recall (efficiently expressed by F1 as well) is important. Interestingly, our better performing algorithms also had higher F1 scores."
   ]
  },
  {
   "cell_type": "code",
   "execution_count": null,
   "metadata": {},
   "outputs": [],
   "source": [
    "binary_data=[\n",
    "    ['Naive Bayes', 'None', 0.704, 0.714, 0.742, 0.727],\n",
    "    ['Decision Tree', 'None', 0.585, 0.317, 0.337, 0.322],\n",
    "    ['Decision Tree - Grid Search', 'critereon, max_depth', 0.718, 0.737, 0.734, 0.735],\n",
    "    ['Gradient Boosting - XGB', 'N/A', 0.770, 0.770, 0.812, 0.790],\n",
    "    ['Random Forrest', 'n_estimators', 0.756, 0.795, 0.730, 0.761],\n",
    "\n",
    "]\n",
    "df_table = pd.DataFrame(binary_data)\n",
    "# sort table in descending order by accuracy\n",
    "df_table = df_table.sort_values(by=[2], kind=\"quicksort\", ascending=False)\n",
    "df_table[2] = pd.Series([\"{0:.1f}%\".format(val * 100) for val in df_table[2]], index = df_table.index)\n",
    "df_table[3] = pd.Series([\"{0:.1f}%\".format(val * 100) for val in df_table[3]], index = df_table.index)\n",
    "df_table[4] = pd.Series([\"{0:.1f}%\".format(val * 100) for val in df_table[4]], index = df_table.index)\n",
    "df_table[5] = pd.Series([\"{0:.1f}%\".format(val * 100) for val in df_table[5]], index = df_table.index)\n",
    "fig = go.Figure(data=[go.Table(header=dict(values=['Method','Hyperparameters', 'Accuracy', 'Precision',\n",
    "                                                  'Recall', 'F1']),\n",
    "                 cells=dict(values=[df_table[0], df_table[1], df_table[2], df_table[3], df_table[4], df_table[5]]))\n",
    "                     ])\n",
    "fig.show()"
   ]
  },
  {
   "cell_type": "markdown",
   "metadata": {},
   "source": [
    "## 5.2 Regression\n",
    "\n",
    "When evaluating the regression algorithm, we chose to focus on the square root of the mean squared error (root MSE). This metric is more appropriate for evaluating multi-class accuracy. We also included mean absolute error (MAE) and accuracy as additional benchmarks, but they did not carry as much importance.\n",
    "\n",
    "Another item set we tested were the features themselves. We ran our three algorithms three times, once with all available features, one with the highly correlated features, and one with only the top two most highly correlated features. To control for this, we did not tune the hyperparameters, instead focusing on how the number of attributes included played a roll.\n",
    "\n",
    "As one additional check, we ran a grid search on the random forest algorithm to see how much tuning the hyperparameters would compare to feature selection."
   ]
  },
  {
   "cell_type": "code",
   "execution_count": null,
   "metadata": {},
   "outputs": [],
   "source": [
    "regression_data=[\n",
    "    ['Linear Regression - All', 'None', 0.681, 0.520, 0.591],\n",
    "    ['Linear Regression - High Correlations', 'None', 0.679, 0.531, 0.562],\n",
    "    ['Linear Regression - Top Two', 'None', 0.691, 0.540, 0.560],\n",
    "    ['Decision Tree - All', 'None', 0.855, 0.514, 0.577],\n",
    "    ['Decision Tree - High Correlations', 'None', 0.830, 0.506, 0.575],\n",
    "    ['Decision Tree - Top Two', 'None', 0.845, 0.538, 0.547],\n",
    "    ['Random Forest - All', 'None', 0.667, 0.471, 0.656],\n",
    "    ['Random Forest - High Correlations', 'None', 0.671, 0.480, 0.606],\n",
    "    ['Random Forest - Top Two', 'critereon, max_depth', 0.697, 0.516, 0.552],\n",
    "    ['Random Forest - Grid Search', 'n_estimators, max_depth, min_samples_split, max_features', 0.621, 0.446, 0.650],\n",
    "\n",
    "]\n",
    "df_reg = pd.DataFrame(regression_data)\n",
    "# sort table in descending order by accuracy\n",
    "df_reg = df_reg.sort_values(by=[2], kind=\"quicksort\", ascending=True)\n",
    "#df_reg[2] = pd.Series([\"{0:.1f}%\".format(val * 100) for val in df_reg[2]], index = df_reg.index)\n",
    "#df_reg[3] = pd.Series([\"{0:.1f}%\".format(val * 100) for val in df_reg[3]], index = df_reg.index)\n",
    "df_reg[4] = pd.Series([\"{0:.1f}%\".format(val * 100) for val in df_reg[4]], index = df_reg.index)\n",
    "fig = go.Figure(data=[go.Table(header=dict(values=['Method','Hyperparameters', 'Root MSE', 'MAE', 'Accuracy']),\n",
    "                 cells=dict(values=[df_reg[0], df_reg[1], df_reg[2], df_reg[3], df_reg[4]]))\n",
    "                     ])\n",
    "fig.show()"
   ]
  },
  {
   "cell_type": "markdown",
   "metadata": {},
   "source": [
    "# 6. Conclusion <a class=\"anchor\" id=\"Conclusion\"></a>\n",
    "\n",
    "In the binary classification situation, we found that the XGBoosting algorithm performed the best overall. As it is already \"pre-tuned\", this makes sense. We also found it interesting how much better the decision tree algorithm performed once we optimized the parameters using a grid search. That also makes sense, but the performance improvement was quite dramatic.\n",
    "\n",
    "With regards to regression, we found that, in general, the more features we included the better. On top of that, the better performing algorithms just generally performed better. The optimized random forest showed, unsurprisingly, the best results in terms of lowest root MSE, but also had the lowest MAE and almost the highest accuracy.\n",
    "\n",
    "Our overall takeaway is that we are pleased with how our algorithms perform in both scenarios. Classifying a wine as a binary \"good\" or \"bad\" should not be difficult given the amount of features to examine. An accuracy and F1 score in the high 70's is a goodbenchmark. We were more pleased with the multi-classification regression algorithms. While the accuracy was lower than in a binary classification, which is to be expected, it's still high enough to get the wines close to their true scores."
   ]
  },
  {
   "cell_type": "code",
   "execution_count": null,
   "metadata": {},
   "outputs": [],
   "source": []
  }
 ],
 "metadata": {
  "kernelspec": {
   "display_name": "Python 3",
   "language": "python",
   "name": "python3"
  },
  "language_info": {
   "codemirror_mode": {
    "name": "ipython",
    "version": 3
   },
   "file_extension": ".py",
   "mimetype": "text/x-python",
   "name": "python",
   "nbconvert_exporter": "python",
   "pygments_lexer": "ipython3",
   "version": "3.7.7"
  }
 },
 "nbformat": 4,
 "nbformat_minor": 2
}
